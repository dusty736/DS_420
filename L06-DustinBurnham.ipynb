{
 "cells": [
  {
   "cell_type": "markdown",
   "metadata": {},
   "source": [
    "# Lesson 6: Ensemble Methods\n",
    "## Author: Dustin Burnham\n",
    "### Due: 8/18/2019\n",
    "\n",
    "Cypress from New Ventures Department has found a banking client who wants to do a targeted marketing campaign for a specialty investment product to some of its customers. Cypress stresses that the bank only wants to spend the effort on customers who are likely to say yes; last year they used a different company to generate an algorithm and ended up spamming many of their customers with products they didn't want.\n",
    "\n",
    "1. Read in, parse, and pre-process the data\n",
    "2. Perform a brief exploratory analysis\n",
    "3. Compare the performance between a decision tree and a random forest approach by assessing the accuracy of each model\n",
    "4. Graph the structure of your decision tree\n",
    "5. Graph the confusion matrix of your random forest model"
   ]
  },
  {
   "cell_type": "code",
   "execution_count": 1,
   "metadata": {},
   "outputs": [],
   "source": [
    "# Import Libraries\n",
    "import pandas as pd\n",
    "import numpy as np\n",
    "import category_encoders as ce\n",
    "from sklearn.ensemble import RandomForestClassifier\n",
    "import seaborn as sns\n",
    "from sklearn.metrics import accuracy_score\n",
    "from sklearn.ensemble import GradientBoostingClassifier\n",
    "from sklearn.tree import DecisionTreeClassifier \n",
    "from sklearn.model_selection import train_test_split \n",
    "from sklearn import metrics\n",
    "from sklearn.metrics import confusion_matrix\n",
    "from sklearn.metrics import classification_report \n",
    "from sklearn.metrics import *\n",
    "import matplotlib.pyplot as plt\n",
    "%matplotlib inline"
   ]
  },
  {
   "cell_type": "markdown",
   "metadata": {},
   "source": [
    "### 1. Read in, parse, and pre-process the data"
   ]
  },
  {
   "cell_type": "code",
   "execution_count": 2,
   "metadata": {},
   "outputs": [],
   "source": [
    "bank = pd.read_csv(\"Bank Data.csv\")"
   ]
  },
  {
   "cell_type": "code",
   "execution_count": 3,
   "metadata": {},
   "outputs": [
    {
     "data": {
      "text/html": [
       "<div>\n",
       "<style scoped>\n",
       "    .dataframe tbody tr th:only-of-type {\n",
       "        vertical-align: middle;\n",
       "    }\n",
       "\n",
       "    .dataframe tbody tr th {\n",
       "        vertical-align: top;\n",
       "    }\n",
       "\n",
       "    .dataframe thead th {\n",
       "        text-align: right;\n",
       "    }\n",
       "</style>\n",
       "<table border=\"1\" class=\"dataframe\">\n",
       "  <thead>\n",
       "    <tr style=\"text-align: right;\">\n",
       "      <th></th>\n",
       "      <th>age</th>\n",
       "      <th>sex</th>\n",
       "      <th>region</th>\n",
       "      <th>income</th>\n",
       "      <th>married</th>\n",
       "      <th>children</th>\n",
       "      <th>car</th>\n",
       "      <th>save_act</th>\n",
       "      <th>current_act</th>\n",
       "      <th>mortgage</th>\n",
       "      <th>pep</th>\n",
       "    </tr>\n",
       "  </thead>\n",
       "  <tbody>\n",
       "    <tr>\n",
       "      <th>0</th>\n",
       "      <td>48</td>\n",
       "      <td>FEMALE</td>\n",
       "      <td>INNER_CITY</td>\n",
       "      <td>17546.0</td>\n",
       "      <td>NO</td>\n",
       "      <td>1</td>\n",
       "      <td>NO</td>\n",
       "      <td>NO</td>\n",
       "      <td>NO</td>\n",
       "      <td>NO</td>\n",
       "      <td>YES</td>\n",
       "    </tr>\n",
       "    <tr>\n",
       "      <th>1</th>\n",
       "      <td>40</td>\n",
       "      <td>MALE</td>\n",
       "      <td>TOWN</td>\n",
       "      <td>30085.1</td>\n",
       "      <td>YES</td>\n",
       "      <td>3</td>\n",
       "      <td>YES</td>\n",
       "      <td>NO</td>\n",
       "      <td>YES</td>\n",
       "      <td>YES</td>\n",
       "      <td>NO</td>\n",
       "    </tr>\n",
       "    <tr>\n",
       "      <th>2</th>\n",
       "      <td>51</td>\n",
       "      <td>FEMALE</td>\n",
       "      <td>INNER_CITY</td>\n",
       "      <td>16575.4</td>\n",
       "      <td>YES</td>\n",
       "      <td>0</td>\n",
       "      <td>YES</td>\n",
       "      <td>YES</td>\n",
       "      <td>YES</td>\n",
       "      <td>NO</td>\n",
       "      <td>NO</td>\n",
       "    </tr>\n",
       "    <tr>\n",
       "      <th>3</th>\n",
       "      <td>23</td>\n",
       "      <td>FEMALE</td>\n",
       "      <td>TOWN</td>\n",
       "      <td>20375.4</td>\n",
       "      <td>YES</td>\n",
       "      <td>3</td>\n",
       "      <td>NO</td>\n",
       "      <td>NO</td>\n",
       "      <td>YES</td>\n",
       "      <td>NO</td>\n",
       "      <td>NO</td>\n",
       "    </tr>\n",
       "    <tr>\n",
       "      <th>4</th>\n",
       "      <td>57</td>\n",
       "      <td>FEMALE</td>\n",
       "      <td>RURAL</td>\n",
       "      <td>50576.3</td>\n",
       "      <td>YES</td>\n",
       "      <td>0</td>\n",
       "      <td>NO</td>\n",
       "      <td>YES</td>\n",
       "      <td>NO</td>\n",
       "      <td>NO</td>\n",
       "      <td>NO</td>\n",
       "    </tr>\n",
       "  </tbody>\n",
       "</table>\n",
       "</div>"
      ],
      "text/plain": [
       "   age     sex      region   income married  children  car save_act  \\\n",
       "0   48  FEMALE  INNER_CITY  17546.0      NO         1   NO       NO   \n",
       "1   40    MALE        TOWN  30085.1     YES         3  YES       NO   \n",
       "2   51  FEMALE  INNER_CITY  16575.4     YES         0  YES      YES   \n",
       "3   23  FEMALE        TOWN  20375.4     YES         3   NO       NO   \n",
       "4   57  FEMALE       RURAL  50576.3     YES         0   NO      YES   \n",
       "\n",
       "  current_act mortgage  pep  \n",
       "0          NO       NO  YES  \n",
       "1         YES      YES   NO  \n",
       "2         YES       NO   NO  \n",
       "3         YES       NO   NO  \n",
       "4          NO       NO   NO  "
      ]
     },
     "execution_count": 3,
     "metadata": {},
     "output_type": "execute_result"
    }
   ],
   "source": [
    "bank.head()"
   ]
  },
  {
   "cell_type": "code",
   "execution_count": 4,
   "metadata": {},
   "outputs": [
    {
     "data": {
      "text/plain": [
       "age              int64\n",
       "sex             object\n",
       "region          object\n",
       "income         float64\n",
       "married         object\n",
       "children         int64\n",
       "car             object\n",
       "save_act        object\n",
       "current_act     object\n",
       "mortgage        object\n",
       "pep             object\n",
       "dtype: object"
      ]
     },
     "execution_count": 4,
     "metadata": {},
     "output_type": "execute_result"
    }
   ],
   "source": [
    "bank.dtypes"
   ]
  },
  {
   "cell_type": "code",
   "execution_count": 5,
   "metadata": {},
   "outputs": [
    {
     "data": {
      "text/plain": [
       "'pep'"
      ]
     },
     "execution_count": 5,
     "metadata": {},
     "output_type": "execute_result"
    }
   ],
   "source": [
    "# Get list of variables to be one hot encoded\n",
    "cat_vars = list(bank.dtypes.index[bank.dtypes == 'object'])\n",
    "cat_vars.pop()"
   ]
  },
  {
   "cell_type": "code",
   "execution_count": 6,
   "metadata": {},
   "outputs": [],
   "source": [
    "# Create one hot encoder\n",
    "handle = \"indicator\" # error return_nan value indicator\n",
    "onehoter =  ce.OneHotEncoder(return_df = True,\n",
    "                       cols = cat_vars,\n",
    "                       drop_invariant = True,\n",
    "                       use_cat_names = True, \n",
    "                       handle_missing = handle, \n",
    "                       handle_unknown = handle)"
   ]
  },
  {
   "cell_type": "code",
   "execution_count": 7,
   "metadata": {},
   "outputs": [],
   "source": [
    "# Split into train and test sets\n",
    "bank_features = bank.iloc[:,0:10]\n",
    "bank_target = bank.iloc[:,10]\n",
    "bank_target = [1 if tar == 'YES' else 0 for tar in bank_target]\n",
    "X_train, X_test, y_train, y_test = train_test_split(bank_features, bank_target, test_size = 0.3, random_state=1)"
   ]
  },
  {
   "cell_type": "code",
   "execution_count": 8,
   "metadata": {},
   "outputs": [],
   "source": [
    "# One hot encode Data\n",
    "onehoter.fit(X_train)\n",
    "X_encoded_train = onehoter.transform(X_train)\n",
    "X_encoded_test = onehoter.transform(X_test)"
   ]
  },
  {
   "cell_type": "code",
   "execution_count": 9,
   "metadata": {},
   "outputs": [
    {
     "name": "stdout",
     "output_type": "stream",
     "text": [
      "X_train shape = (420, 10)\n",
      "X_encoded_train shape = (420, 19)\n",
      "X_test shape = (180, 10)\n",
      "X_encoded_test shape = (180, 19)\n"
     ]
    }
   ],
   "source": [
    "print(\"X_train shape = {}\".format(X_train.shape))\n",
    "print(\"X_encoded_train shape = {}\".format(X_encoded_train.shape))\n",
    "\n",
    "print(\"X_test shape = {}\".format(X_test.shape))\n",
    "print(\"X_encoded_test shape = {}\".format(X_encoded_test.shape))"
   ]
  },
  {
   "cell_type": "code",
   "execution_count": 10,
   "metadata": {},
   "outputs": [
    {
     "data": {
      "text/html": [
       "<div>\n",
       "<style scoped>\n",
       "    .dataframe tbody tr th:only-of-type {\n",
       "        vertical-align: middle;\n",
       "    }\n",
       "\n",
       "    .dataframe tbody tr th {\n",
       "        vertical-align: top;\n",
       "    }\n",
       "\n",
       "    .dataframe thead th {\n",
       "        text-align: right;\n",
       "    }\n",
       "</style>\n",
       "<table border=\"1\" class=\"dataframe\">\n",
       "  <thead>\n",
       "    <tr style=\"text-align: right;\">\n",
       "      <th></th>\n",
       "      <th>age</th>\n",
       "      <th>sex_FEMALE</th>\n",
       "      <th>sex_MALE</th>\n",
       "      <th>region_INNER_CITY</th>\n",
       "      <th>region_RURAL</th>\n",
       "      <th>region_TOWN</th>\n",
       "      <th>region_SUBURBAN</th>\n",
       "      <th>income</th>\n",
       "      <th>married_NO</th>\n",
       "      <th>married_YES</th>\n",
       "      <th>children</th>\n",
       "      <th>car_YES</th>\n",
       "      <th>car_NO</th>\n",
       "      <th>save_act_YES</th>\n",
       "      <th>save_act_NO</th>\n",
       "      <th>current_act_YES</th>\n",
       "      <th>current_act_NO</th>\n",
       "      <th>mortgage_NO</th>\n",
       "      <th>mortgage_YES</th>\n",
       "    </tr>\n",
       "  </thead>\n",
       "  <tbody>\n",
       "    <tr>\n",
       "      <th>446</th>\n",
       "      <td>52</td>\n",
       "      <td>1</td>\n",
       "      <td>0</td>\n",
       "      <td>0</td>\n",
       "      <td>0</td>\n",
       "      <td>1</td>\n",
       "      <td>0</td>\n",
       "      <td>43719.5</td>\n",
       "      <td>0</td>\n",
       "      <td>1</td>\n",
       "      <td>0</td>\n",
       "      <td>0</td>\n",
       "      <td>1</td>\n",
       "      <td>1</td>\n",
       "      <td>0</td>\n",
       "      <td>1</td>\n",
       "      <td>0</td>\n",
       "      <td>1</td>\n",
       "      <td>0</td>\n",
       "    </tr>\n",
       "    <tr>\n",
       "      <th>404</th>\n",
       "      <td>24</td>\n",
       "      <td>1</td>\n",
       "      <td>0</td>\n",
       "      <td>1</td>\n",
       "      <td>0</td>\n",
       "      <td>0</td>\n",
       "      <td>0</td>\n",
       "      <td>13864.6</td>\n",
       "      <td>0</td>\n",
       "      <td>1</td>\n",
       "      <td>3</td>\n",
       "      <td>0</td>\n",
       "      <td>1</td>\n",
       "      <td>1</td>\n",
       "      <td>0</td>\n",
       "      <td>1</td>\n",
       "      <td>0</td>\n",
       "      <td>1</td>\n",
       "      <td>0</td>\n",
       "    </tr>\n",
       "    <tr>\n",
       "      <th>509</th>\n",
       "      <td>23</td>\n",
       "      <td>1</td>\n",
       "      <td>0</td>\n",
       "      <td>0</td>\n",
       "      <td>1</td>\n",
       "      <td>0</td>\n",
       "      <td>0</td>\n",
       "      <td>11215.3</td>\n",
       "      <td>0</td>\n",
       "      <td>1</td>\n",
       "      <td>2</td>\n",
       "      <td>1</td>\n",
       "      <td>0</td>\n",
       "      <td>1</td>\n",
       "      <td>0</td>\n",
       "      <td>1</td>\n",
       "      <td>0</td>\n",
       "      <td>1</td>\n",
       "      <td>0</td>\n",
       "    </tr>\n",
       "    <tr>\n",
       "      <th>455</th>\n",
       "      <td>27</td>\n",
       "      <td>1</td>\n",
       "      <td>0</td>\n",
       "      <td>1</td>\n",
       "      <td>0</td>\n",
       "      <td>0</td>\n",
       "      <td>0</td>\n",
       "      <td>11866.4</td>\n",
       "      <td>0</td>\n",
       "      <td>1</td>\n",
       "      <td>0</td>\n",
       "      <td>1</td>\n",
       "      <td>0</td>\n",
       "      <td>1</td>\n",
       "      <td>0</td>\n",
       "      <td>1</td>\n",
       "      <td>0</td>\n",
       "      <td>1</td>\n",
       "      <td>0</td>\n",
       "    </tr>\n",
       "    <tr>\n",
       "      <th>201</th>\n",
       "      <td>46</td>\n",
       "      <td>1</td>\n",
       "      <td>0</td>\n",
       "      <td>0</td>\n",
       "      <td>0</td>\n",
       "      <td>1</td>\n",
       "      <td>0</td>\n",
       "      <td>41627.1</td>\n",
       "      <td>0</td>\n",
       "      <td>1</td>\n",
       "      <td>0</td>\n",
       "      <td>0</td>\n",
       "      <td>1</td>\n",
       "      <td>1</td>\n",
       "      <td>0</td>\n",
       "      <td>1</td>\n",
       "      <td>0</td>\n",
       "      <td>0</td>\n",
       "      <td>1</td>\n",
       "    </tr>\n",
       "  </tbody>\n",
       "</table>\n",
       "</div>"
      ],
      "text/plain": [
       "     age  sex_FEMALE  sex_MALE  region_INNER_CITY  region_RURAL  region_TOWN  \\\n",
       "446   52           1         0                  0             0            1   \n",
       "404   24           1         0                  1             0            0   \n",
       "509   23           1         0                  0             1            0   \n",
       "455   27           1         0                  1             0            0   \n",
       "201   46           1         0                  0             0            1   \n",
       "\n",
       "     region_SUBURBAN   income  married_NO  married_YES  children  car_YES  \\\n",
       "446                0  43719.5           0            1         0        0   \n",
       "404                0  13864.6           0            1         3        0   \n",
       "509                0  11215.3           0            1         2        1   \n",
       "455                0  11866.4           0            1         0        1   \n",
       "201                0  41627.1           0            1         0        0   \n",
       "\n",
       "     car_NO  save_act_YES  save_act_NO  current_act_YES  current_act_NO  \\\n",
       "446       1             1            0                1               0   \n",
       "404       1             1            0                1               0   \n",
       "509       0             1            0                1               0   \n",
       "455       0             1            0                1               0   \n",
       "201       1             1            0                1               0   \n",
       "\n",
       "     mortgage_NO  mortgage_YES  \n",
       "446            1             0  \n",
       "404            1             0  \n",
       "509            1             0  \n",
       "455            1             0  \n",
       "201            0             1  "
      ]
     },
     "execution_count": 10,
     "metadata": {},
     "output_type": "execute_result"
    }
   ],
   "source": [
    "X_encoded_test.head()"
   ]
  },
  {
   "cell_type": "code",
   "execution_count": 11,
   "metadata": {},
   "outputs": [],
   "source": [
    "# Test everything was encoded ok\n",
    "assert(X_encoded_train.shape[1] == X_encoded_test.shape[1])"
   ]
  },
  {
   "cell_type": "markdown",
   "metadata": {},
   "source": [
    "### 2. EDA"
   ]
  },
  {
   "cell_type": "code",
   "execution_count": 12,
   "metadata": {},
   "outputs": [
    {
     "data": {
      "image/png": "[encoded data removed]",
      "text/plain": [
       "<Figure size 432x288 with 1 Axes>"
      ]
     },
     "metadata": {
      "needs_background": "light"
     },
     "output_type": "display_data"
    }
   ],
   "source": [
    "# Check distribution of target\n",
    "plt.hist(bank_target)\n",
    "plt.title(\"Bank Target Distribution\")\n",
    "plt.show()"
   ]
  },
  {
   "cell_type": "markdown",
   "metadata": {},
   "source": [
    "Use pairplot with color being target to see how each variable is related to the target."
   ]
  },
  {
   "cell_type": "code",
   "execution_count": 13,
   "metadata": {
    "scrolled": false
   },
   "outputs": [
    {
     "data": {
      "text/plain": [
       "<seaborn.axisgrid.PairGrid at 0x1a175a32b0>"
      ]
     },
     "execution_count": 13,
     "metadata": {},
     "output_type": "execute_result"
    },
    {
     "data": {
      "image/png": "[encoded data removed]",
      "text/plain": [
       "<Figure size 594.5x540 with 12 Axes>"
      ]
     },
     "metadata": {
      "needs_background": "light"
     },
     "output_type": "display_data"
    }
   ],
   "source": [
    "sns.pairplot(bank, hue=\"pep\")"
   ]
  },
  {
   "cell_type": "markdown",
   "metadata": {},
   "source": [
    "Based off of the EDA, we can see that the targets are well balanced.  In addition, we can notice the following based off of the KDE plots of pairplot:\n",
    "1. Number of children has the starkest difference between yes and no\n",
    "2. Individuals that are older are more likely to be a yes\n",
    "3. Individuals at the upper end of income are also more likely to be a yes\n",
    "\n",
    "Overall, I expect the number of children to be the most important feature in our decision tree and ensemble methods. \n",
    "\n",
    "Next Income and age."
   ]
  },
  {
   "cell_type": "markdown",
   "metadata": {},
   "source": [
    "### 3. Compare the performance between a decision tree and a random forest approach by assessing the accuracy of each model"
   ]
  },
  {
   "cell_type": "markdown",
   "metadata": {},
   "source": [
    "Create dataframe for storing and testing results of different models.  Pick the hyper parameters that create the model with the best score."
   ]
  },
  {
   "cell_type": "code",
   "execution_count": 14,
   "metadata": {},
   "outputs": [],
   "source": [
    "results = pd.DataFrame(columns = [\"algo\", \"acc_train\", \"acc_test\"])"
   ]
  },
  {
   "cell_type": "code",
   "execution_count": 15,
   "metadata": {},
   "outputs": [],
   "source": [
    "try:\n",
    "    results # checks if this object exists or not\n",
    "except NameError:\n",
    "    results = pd.DataFrame(columns = [\"algo\", \"acc_train\", \"acc_test\"]) # initiates it"
   ]
  },
  {
   "cell_type": "code",
   "execution_count": 16,
   "metadata": {},
   "outputs": [],
   "source": [
    "# Train random forrest and GB models in functions run tests easier\n",
    "\n",
    "def rf(x_train, x_test ,y_train, y_test, hparam, df):\n",
    "    \n",
    "    clf_rf = RandomForestClassifier(n_estimators = hparam[\"nTrees\"], \n",
    "                                max_depth = hparam[\"max_depth\"], \n",
    "                                random_state = 0, \n",
    "                                min_samples_leaf = hparam[\"min_leaf_size\"],\n",
    "                                verbose = False)\n",
    "    \n",
    "    clf_rf.fit(x_train, y_train)\n",
    "    \n",
    "    Y_train_hat = clf_rf.predict(x_train)\n",
    "\n",
    "    Y_test_hat = clf_rf.predict(x_test)\n",
    "    \n",
    "    acc_test = accuracy_score(y_test, Y_test_hat)\n",
    "    acc_train = accuracy_score(y_train, Y_train_hat)\n",
    "    \n",
    "    df.loc[len(results), 0:3] = [\"rf\", acc_train, acc_test]\n",
    "\n",
    "    for hp in hparam.keys():\n",
    "        df.loc[len(df) - 1, hp] = hparam[hp]\n",
    "    df  \n",
    "    return(df)\n",
    "\n",
    "def gb(x_train, x_test ,y_train, y_test, hparam, df):\n",
    "    \n",
    "    clf_gb = GradientBoostingClassifier(n_estimators = hparam[\"nTrees\"], \n",
    "                                    loss = 'deviance', \n",
    "                                    learning_rate = hparam[\"learning_rate\"], \n",
    "                                    max_depth = hparam[\"max_depth\"], \n",
    "                                    min_samples_leaf = hparam[\"min_leaf_size\"])\n",
    "    \n",
    "    clf_gb.fit(x_train, y_train)\n",
    "    \n",
    "    Y_train_hat = clf_gb.predict(x_train)\n",
    "\n",
    "    Y_test_hat = clf_gb.predict(x_test)\n",
    "    \n",
    "    acc_test = accuracy_score(y_test, Y_test_hat)\n",
    "    acc_train = accuracy_score(y_train, Y_train_hat)\n",
    "    \n",
    "    df.loc[len(results), 0:3] = [\"gb\", acc_train, acc_test]\n",
    "\n",
    "    for hp in hparam.keys():\n",
    "        df.loc[len(df) - 1, hp] = hparam[hp]\n",
    "    df  \n",
    "    return(df)"
   ]
  },
  {
   "cell_type": "code",
   "execution_count": 17,
   "metadata": {},
   "outputs": [],
   "source": [
    "# Random forrest hyperparameters\n",
    "hypers_rf = {\"nTrees\": 50, \"max_depth\": 11, \"min_leaf_size\": 5}"
   ]
  },
  {
   "cell_type": "code",
   "execution_count": 18,
   "metadata": {},
   "outputs": [
    {
     "data": {
      "text/html": [
       "<div>\n",
       "<style scoped>\n",
       "    .dataframe tbody tr th:only-of-type {\n",
       "        vertical-align: middle;\n",
       "    }\n",
       "\n",
       "    .dataframe tbody tr th {\n",
       "        vertical-align: top;\n",
       "    }\n",
       "\n",
       "    .dataframe thead th {\n",
       "        text-align: right;\n",
       "    }\n",
       "</style>\n",
       "<table border=\"1\" class=\"dataframe\">\n",
       "  <thead>\n",
       "    <tr style=\"text-align: right;\">\n",
       "      <th></th>\n",
       "      <th>algo</th>\n",
       "      <th>acc_train</th>\n",
       "      <th>acc_test</th>\n",
       "      <th>nTrees</th>\n",
       "      <th>max_depth</th>\n",
       "      <th>min_leaf_size</th>\n",
       "    </tr>\n",
       "  </thead>\n",
       "  <tbody>\n",
       "    <tr>\n",
       "      <th>0</th>\n",
       "      <td>rf</td>\n",
       "      <td>0.928571</td>\n",
       "      <td>0.855556</td>\n",
       "      <td>50.0</td>\n",
       "      <td>11.0</td>\n",
       "      <td>5.0</td>\n",
       "    </tr>\n",
       "  </tbody>\n",
       "</table>\n",
       "</div>"
      ],
      "text/plain": [
       "  algo acc_train  acc_test  nTrees  max_depth  min_leaf_size\n",
       "0   rf  0.928571  0.855556    50.0       11.0            5.0"
      ]
     },
     "execution_count": 18,
     "metadata": {},
     "output_type": "execute_result"
    }
   ],
   "source": [
    "# Try out RF hyperparameters\n",
    "rf(X_encoded_train, X_encoded_test, y_train, y_test, hypers_rf, results)"
   ]
  },
  {
   "cell_type": "code",
   "execution_count": 19,
   "metadata": {},
   "outputs": [],
   "source": [
    "# Gradient boost hyper parameters\n",
    "hypers_gb = {\"nTrees\":15, \"learning_rate\":0.07, \"max_depth\":10, \"min_leaf_size\":15}"
   ]
  },
  {
   "cell_type": "code",
   "execution_count": 20,
   "metadata": {},
   "outputs": [
    {
     "data": {
      "text/html": [
       "<div>\n",
       "<style scoped>\n",
       "    .dataframe tbody tr th:only-of-type {\n",
       "        vertical-align: middle;\n",
       "    }\n",
       "\n",
       "    .dataframe tbody tr th {\n",
       "        vertical-align: top;\n",
       "    }\n",
       "\n",
       "    .dataframe thead th {\n",
       "        text-align: right;\n",
       "    }\n",
       "</style>\n",
       "<table border=\"1\" class=\"dataframe\">\n",
       "  <thead>\n",
       "    <tr style=\"text-align: right;\">\n",
       "      <th></th>\n",
       "      <th>algo</th>\n",
       "      <th>acc_train</th>\n",
       "      <th>acc_test</th>\n",
       "      <th>nTrees</th>\n",
       "      <th>max_depth</th>\n",
       "      <th>min_leaf_size</th>\n",
       "      <th>learning_rate</th>\n",
       "    </tr>\n",
       "  </thead>\n",
       "  <tbody>\n",
       "    <tr>\n",
       "      <th>0</th>\n",
       "      <td>rf</td>\n",
       "      <td>0.928571</td>\n",
       "      <td>0.855556</td>\n",
       "      <td>50.0</td>\n",
       "      <td>11.0</td>\n",
       "      <td>5.0</td>\n",
       "      <td>NaN</td>\n",
       "    </tr>\n",
       "    <tr>\n",
       "      <th>1</th>\n",
       "      <td>gb</td>\n",
       "      <td>0.911905</td>\n",
       "      <td>0.911111</td>\n",
       "      <td>15.0</td>\n",
       "      <td>10.0</td>\n",
       "      <td>15.0</td>\n",
       "      <td>0.07</td>\n",
       "    </tr>\n",
       "  </tbody>\n",
       "</table>\n",
       "</div>"
      ],
      "text/plain": [
       "  algo acc_train  acc_test  nTrees  max_depth  min_leaf_size  learning_rate\n",
       "0   rf  0.928571  0.855556    50.0       11.0            5.0            NaN\n",
       "1   gb  0.911905  0.911111    15.0       10.0           15.0           0.07"
      ]
     },
     "execution_count": 20,
     "metadata": {},
     "output_type": "execute_result"
    }
   ],
   "source": [
    "# Try out GB hyperparameters\n",
    "gb(X_encoded_train, X_encoded_test, y_train, y_test, hypers_gb, results)"
   ]
  },
  {
   "cell_type": "code",
   "execution_count": 21,
   "metadata": {},
   "outputs": [
    {
     "data": {
      "text/plain": [
       "GridSearchCV(cv=5, error_score='raise-deprecating',\n",
       "       estimator=DecisionTreeClassifier(class_weight=None, criterion='gini', max_depth=None,\n",
       "            max_features=None, max_leaf_nodes=None,\n",
       "            min_impurity_decrease=0.0, min_impurity_split=None,\n",
       "            min_samples_leaf=1, min_samples_split=2,\n",
       "            min_weight_fraction_leaf=0.0, presort=False, random_state=None,\n",
       "            splitter='best'),\n",
       "       fit_params=None, iid=False, n_jobs=None,\n",
       "       param_grid={'max_depth': [15, 20, 25], 'max_leaf_nodes': [10, 15, 20]},\n",
       "       pre_dispatch='2*n_jobs', refit=True, return_train_score=True,\n",
       "       scoring=None, verbose=0)"
      ]
     },
     "execution_count": 21,
     "metadata": {},
     "output_type": "execute_result"
    }
   ],
   "source": [
    "# Train decision tree.  Pick hyper parameters using cross-validated grid search\n",
    "from sklearn.model_selection import GridSearchCV\n",
    "    \n",
    "hypers_dt = {\"max_depth\": [15, 20, 25], \"max_leaf_nodes\": [10, 15, 20]}\n",
    "clf_dt = DecisionTreeClassifier()\n",
    "clf = GridSearchCV(clf_dt, hypers_dt, cv=5, iid = False, return_train_score=True)\n",
    "clf.fit(X_encoded_train, y_train)"
   ]
  },
  {
   "cell_type": "code",
   "execution_count": 22,
   "metadata": {},
   "outputs": [],
   "source": [
    "# Get hyper parameters that maximize performance\n",
    "scores = list(clf.cv_results_['mean_test_score'])\n",
    "max_index = scores.index(max(scores))\n",
    "params = clf.cv_results_['params'][max_index]"
   ]
  },
  {
   "cell_type": "code",
   "execution_count": 23,
   "metadata": {},
   "outputs": [
    {
     "name": "stdout",
     "output_type": "stream",
     "text": [
      "Max Score: 0.8594876986939355\n",
      "Paramters {'max_depth': 20, 'max_leaf_nodes': 20}\n"
     ]
    }
   ],
   "source": [
    "print(\"Max Score:\", scores[max_index])\n",
    "print(\"Paramters\", params)"
   ]
  },
  {
   "cell_type": "code",
   "execution_count": 24,
   "metadata": {},
   "outputs": [],
   "source": [
    "# Train decision tree, get predictions\n",
    "clf_dt = DecisionTreeClassifier(max_depth = params['max_depth'], max_leaf_nodes = params['max_leaf_nodes'])\n",
    "clf_dt.fit(X_encoded_train, y_train)\n",
    "dt_pred = clf_dt.predict(X_encoded_test)\n",
    "dt_pred_train = clf_dt.predict(X_encoded_train)"
   ]
  },
  {
   "cell_type": "markdown",
   "metadata": {},
   "source": [
    "### Train Final Model"
   ]
  },
  {
   "cell_type": "code",
   "execution_count": 25,
   "metadata": {},
   "outputs": [],
   "source": [
    "# hyperparameters of best performing ensemble method\n",
    "hypers_gb = {\"nTrees\": 15, \"max_depth\": 10, \"min_leaf_size\": 15, \"learning_rate\": 0.07}"
   ]
  },
  {
   "cell_type": "code",
   "execution_count": 26,
   "metadata": {},
   "outputs": [],
   "source": [
    "# Train GB model, create predictions\n",
    "clf_gb = GradientBoostingClassifier(n_estimators = hypers_gb[\"nTrees\"], \n",
    "                                    loss = 'deviance', \n",
    "                                    learning_rate = hypers_gb[\"learning_rate\"], \n",
    "                                    max_depth = hypers_gb[\"max_depth\"], \n",
    "                                    min_samples_leaf = hypers_gb[\"min_leaf_size\"])\n",
    "    \n",
    "clf_gb.fit(X_encoded_train, y_train)\n",
    "    \n",
    "Y_test_hat = clf_gb.predict(X_encoded_test)"
   ]
  },
  {
   "cell_type": "markdown",
   "metadata": {},
   "source": [
    "### Evaluate Final Model"
   ]
  },
  {
   "cell_type": "code",
   "execution_count": 27,
   "metadata": {},
   "outputs": [
    {
     "name": "stdout",
     "output_type": "stream",
     "text": [
      "              precision    recall  f1-score   support\n",
      "\n",
      "           0       0.93      0.89      0.91       104\n",
      "           1       0.86      0.91      0.88        76\n",
      "\n",
      "   micro avg       0.90      0.90      0.90       180\n",
      "   macro avg       0.90      0.90      0.90       180\n",
      "weighted avg       0.90      0.90      0.90       180\n",
      "\n"
     ]
    }
   ],
   "source": [
    "# Decision Tree\n",
    "print(classification_report(dt_pred, y_test))"
   ]
  },
  {
   "cell_type": "code",
   "execution_count": 28,
   "metadata": {},
   "outputs": [
    {
     "name": "stdout",
     "output_type": "stream",
     "text": [
      "              precision    recall  f1-score   support\n",
      "\n",
      "           0       0.93      0.91      0.92       102\n",
      "           1       0.89      0.91      0.90        78\n",
      "\n",
      "   micro avg       0.91      0.91      0.91       180\n",
      "   macro avg       0.91      0.91      0.91       180\n",
      "weighted avg       0.91      0.91      0.91       180\n",
      "\n"
     ]
    }
   ],
   "source": [
    "# Gradient Boost Ensemble\n",
    "print(classification_report(Y_test_hat, y_test))"
   ]
  },
  {
   "cell_type": "markdown",
   "metadata": {},
   "source": [
    "Decision trees, random forrest, and gradient boost models perform very well looking at the average of various scores, but the random forrest was hard to not overfit so I went with a GB model to test agains the decision tree.  I am surprised that I wasn't able to get the GB model to perform significantly better than the decision tree.  Perhaps this is just a dataset that is simple enough to predict with a simple model.  The GB did just as well on the train as it did on the test, so I'm confident that that the model was not overfit."
   ]
  },
  {
   "cell_type": "markdown",
   "metadata": {},
   "source": [
    "### 4. Graph the structure of your decision tree"
   ]
  },
  {
   "cell_type": "code",
   "execution_count": 29,
   "metadata": {},
   "outputs": [
    {
     "data": {
      "text/plain": [
       "0"
      ]
     },
     "execution_count": 29,
     "metadata": {},
     "output_type": "execute_result"
    }
   ],
   "source": [
    "from sklearn import tree\n",
    "import os\n",
    "dotfile = open(\"dtree.dot\", 'w')\n",
    "tree.export_graphviz(clf_dt, out_file = dotfile, feature_names = list(X_encoded_train))\n",
    "dotfile.close()\n",
    "os.environ[\"PATH\"] += os.pathsep + '/Users/dusty/anaconda3/pkgs/graphviz-2.40.1-hefbbd9a_2/lib/graphviz'\n",
    "os.system('dot -Tpng dtree.dot -o dtree.png')"
   ]
  },
  {
   "cell_type": "markdown",
   "metadata": {},
   "source": [
    "<img src=\"dtree.png\">"
   ]
  },
  {
   "cell_type": "code",
   "execution_count": 30,
   "metadata": {},
   "outputs": [
    {
     "data": {
      "text/plain": [
       "<matplotlib.axes._subplots.AxesSubplot at 0x1a17d89940>"
      ]
     },
     "execution_count": 30,
     "metadata": {},
     "output_type": "execute_result"
    },
    {
     "data": {
      "image/png": "[encoded data removed]",
      "text/plain": [
       "<Figure size 432x288 with 1 Axes>"
      ]
     },
     "metadata": {
      "needs_background": "light"
     },
     "output_type": "display_data"
    }
   ],
   "source": [
    "df_var_imp = pd.DataFrame({\"feature\": X_encoded_train.columns, \n",
    "                           \"importance\": clf_gb.feature_importances_})\n",
    "df_var_imp.sort_values(by = \"importance\", ascending = False, inplace = True)\n",
    "\n",
    "import seaborn as sns\n",
    "ax = sns.barplot(x = \"importance\", y = \"feature\", data = df_var_imp.head(10), color = \"lightblue\")\n",
    "plt.title(\"Importance of Features in GB Model\")\n",
    "ax"
   ]
  },
  {
   "cell_type": "markdown",
   "metadata": {},
   "source": [
    "The top two features between the two models are the same.  Children and income.  The decision tree is highly unbalanced, including a couple of leaves do not classify well.  Overall, the decision tree does a good job of identifying \"yes\" candidates.  However, given the previous experience of the client we should use the gradient boosted ensemble method."
   ]
  },
  {
   "cell_type": "markdown",
   "metadata": {},
   "source": [
    "### 5. Graph the confusion matrix of your random forest model"
   ]
  },
  {
   "cell_type": "markdown",
   "metadata": {},
   "source": [
    "Check performance of GB Model"
   ]
  },
  {
   "cell_type": "code",
   "execution_count": 31,
   "metadata": {},
   "outputs": [],
   "source": [
    "CM = metrics.confusion_matrix(y_test, Y_test_hat)\n",
    "tn, fp, fn, tp = CM.ravel()"
   ]
  },
  {
   "cell_type": "code",
   "execution_count": 32,
   "metadata": {},
   "outputs": [
    {
     "name": "stdout",
     "output_type": "stream",
     "text": [
      "True Negative:  93\n",
      "False Positive:  7\n",
      "False Negative:  9\n",
      "True Positive:  71\n"
     ]
    }
   ],
   "source": [
    "print('True Negative: ', tn)\n",
    "print('False Positive: ', fp)\n",
    "print('False Negative: ', fn)\n",
    "print('True Positive: ', tp)"
   ]
  },
  {
   "cell_type": "code",
   "execution_count": 33,
   "metadata": {},
   "outputs": [
    {
     "name": "stdout",
     "output_type": "stream",
     "text": [
      "Area Under Curve: 0.90875\n"
     ]
    },
    {
     "data": {
      "image/png": "[encoded data removed]",
      "text/plain": [
       "<Figure size 576x576 with 1 Axes>"
      ]
     },
     "metadata": {
      "needs_background": "light"
     },
     "output_type": "display_data"
    }
   ],
   "source": [
    "# Generate True Positive Rate, Fale Positive Rate\n",
    "fpr, tpr, th = roc_curve(y_test, Y_test_hat)\n",
    "\n",
    "# Generate Area Under the ROC Curve\n",
    "AUC = auc(fpr, tpr)\n",
    "print(\"Area Under Curve:\", AUC)\n",
    "\n",
    "# Generate ROC Plot\n",
    "plt.rcParams[\"figure.figsize\"] = [8, 8] # Square\n",
    "plt.figure()\n",
    "plt.title('ROC Curve')\n",
    "plt.xlabel('FPR')\n",
    "plt.ylabel('TPR')\n",
    "plt.plot(fpr, tpr, LW=3, label='ROC curve (AUC = %0.2f)' % AUC)\n",
    "plt.plot([0, 1], [0, 1], color='navy', LW=3, linestyle='--') # reference line for random classifier\n",
    "plt.legend(loc=\"lower right\")\n",
    "plt.show()"
   ]
  },
  {
   "cell_type": "markdown",
   "metadata": {},
   "source": [
    "Both models perform well, but the gradient boosted model has a higher average precision, recall and f1 scores and performs evenly on both train and test (not overfit).  The precision is 91%, so we can feel pretty good that these ads will make it to the right audience without spamming individuals that are likely to say no.  The algorithm isn't perfect, but the company will no doubt feel more comfortable going forward with us (compared to those bad data scientists last summer)."
   ]
  }
 ],
 "metadata": {
  "kernelspec": {
   "display_name": "Python 3",
   "language": "python",
   "name": "python3"
  },
  "language_info": {
   "codemirror_mode": {
    "name": "ipython",
    "version": 3
   },
   "file_extension": ".py",
   "mimetype": "text/x-python",
   "name": "python",
   "nbconvert_exporter": "python",
   "pygments_lexer": "ipython3",
   "version": "3.6.8"
  }
 },
 "nbformat": 4,
 "nbformat_minor": 2
}
