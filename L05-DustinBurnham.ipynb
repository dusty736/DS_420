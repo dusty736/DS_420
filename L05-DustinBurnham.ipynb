{
 "cells": [
  {
   "cell_type": "markdown",
   "metadata": {},
   "source": [
    "# Lesson 5 Assignment: Tumor Classification with Decision Trees\n",
    "## Author: Dustin Burham\n",
    "### Due August 11th, 2019\n",
    "\n",
    "Rooney's client is a tech-manufacturing startup working on a number of automated detection devices for the medical and construction industries. Among the auto-detection devices is a reader that looks at possible carcinoma tissue samples to classify the sample as either benign or malignant. Rooney asks you for help in developing a better algorithm than the current classifier, perhaps a decision tree can help.\n",
    "\n",
    "1. Test both entropy and the gini coefficient. Which performs better and why?\n",
    "2. What are the best hyperparameter settings for both?\n",
    "3. Visualize both models and see which feature is selected for each criterion. Are they same for both? Why or why not?\n",
    "4. Determine the AUC for the best model you can achieve. What are the precision and recal values and which might be the one you want to maximize?\n",
    "5. What are the implications of using this type of machine learning algorithm for breast cancer analysis?"
   ]
  },
  {
   "cell_type": "code",
   "execution_count": 1,
   "metadata": {},
   "outputs": [],
   "source": [
    "# Import libraries\n",
    "import pandas as pd \n",
    "import numpy as np\n",
    "from sklearn.model_selection import train_test_split \n",
    "from sklearn.tree import DecisionTreeClassifier \n",
    "from sklearn.metrics import accuracy_score\n",
    "from sklearn import metrics\n",
    "from sklearn.metrics import f1_score\n",
    "import seaborn as sns\n",
    "import matplotlib.pyplot as plt\n",
    "%matplotlib inline\n",
    "from sklearn.metrics import confusion_matrix\n",
    "from sklearn.metrics import classification_report \n",
    "from sklearn import metrics\n",
    "from sklearn.metrics import *"
   ]
  },
  {
   "cell_type": "markdown",
   "metadata": {},
   "source": [
    "### Read in the data"
   ]
  },
  {
   "cell_type": "code",
   "execution_count": 2,
   "metadata": {},
   "outputs": [],
   "source": [
    "names = ['id', 'clump_thickness', 'uniformity_size', 'uniformity_shape', \n",
    "         'marginal_adhesion', 'single_epithelial_cell_size', 'bare_nuclei', \n",
    "         'bland_chromatin', 'normal_nucleoli', 'mitosis', 'class']\n",
    "bc = pd.read_csv(\"breast-cancer-wisconsin.data\", names=names)"
   ]
  },
  {
   "cell_type": "code",
   "execution_count": 3,
   "metadata": {},
   "outputs": [
    {
     "data": {
      "text/html": [
       "<div>\n",
       "<style scoped>\n",
       "    .dataframe tbody tr th:only-of-type {\n",
       "        vertical-align: middle;\n",
       "    }\n",
       "\n",
       "    .dataframe tbody tr th {\n",
       "        vertical-align: top;\n",
       "    }\n",
       "\n",
       "    .dataframe thead th {\n",
       "        text-align: right;\n",
       "    }\n",
       "</style>\n",
       "<table border=\"1\" class=\"dataframe\">\n",
       "  <thead>\n",
       "    <tr style=\"text-align: right;\">\n",
       "      <th></th>\n",
       "      <th>id</th>\n",
       "      <th>clump_thickness</th>\n",
       "      <th>uniformity_size</th>\n",
       "      <th>uniformity_shape</th>\n",
       "      <th>marginal_adhesion</th>\n",
       "      <th>single_epithelial_cell_size</th>\n",
       "      <th>bare_nuclei</th>\n",
       "      <th>bland_chromatin</th>\n",
       "      <th>normal_nucleoli</th>\n",
       "      <th>mitosis</th>\n",
       "      <th>class</th>\n",
       "    </tr>\n",
       "  </thead>\n",
       "  <tbody>\n",
       "    <tr>\n",
       "      <th>0</th>\n",
       "      <td>1000025</td>\n",
       "      <td>5</td>\n",
       "      <td>1</td>\n",
       "      <td>1</td>\n",
       "      <td>1</td>\n",
       "      <td>2</td>\n",
       "      <td>1</td>\n",
       "      <td>3</td>\n",
       "      <td>1</td>\n",
       "      <td>1</td>\n",
       "      <td>2</td>\n",
       "    </tr>\n",
       "    <tr>\n",
       "      <th>1</th>\n",
       "      <td>1002945</td>\n",
       "      <td>5</td>\n",
       "      <td>4</td>\n",
       "      <td>4</td>\n",
       "      <td>5</td>\n",
       "      <td>7</td>\n",
       "      <td>10</td>\n",
       "      <td>3</td>\n",
       "      <td>2</td>\n",
       "      <td>1</td>\n",
       "      <td>2</td>\n",
       "    </tr>\n",
       "    <tr>\n",
       "      <th>2</th>\n",
       "      <td>1015425</td>\n",
       "      <td>3</td>\n",
       "      <td>1</td>\n",
       "      <td>1</td>\n",
       "      <td>1</td>\n",
       "      <td>2</td>\n",
       "      <td>2</td>\n",
       "      <td>3</td>\n",
       "      <td>1</td>\n",
       "      <td>1</td>\n",
       "      <td>2</td>\n",
       "    </tr>\n",
       "    <tr>\n",
       "      <th>3</th>\n",
       "      <td>1016277</td>\n",
       "      <td>6</td>\n",
       "      <td>8</td>\n",
       "      <td>8</td>\n",
       "      <td>1</td>\n",
       "      <td>3</td>\n",
       "      <td>4</td>\n",
       "      <td>3</td>\n",
       "      <td>7</td>\n",
       "      <td>1</td>\n",
       "      <td>2</td>\n",
       "    </tr>\n",
       "    <tr>\n",
       "      <th>4</th>\n",
       "      <td>1017023</td>\n",
       "      <td>4</td>\n",
       "      <td>1</td>\n",
       "      <td>1</td>\n",
       "      <td>3</td>\n",
       "      <td>2</td>\n",
       "      <td>1</td>\n",
       "      <td>3</td>\n",
       "      <td>1</td>\n",
       "      <td>1</td>\n",
       "      <td>2</td>\n",
       "    </tr>\n",
       "  </tbody>\n",
       "</table>\n",
       "</div>"
      ],
      "text/plain": [
       "        id  clump_thickness  uniformity_size  uniformity_shape  \\\n",
       "0  1000025                5                1                 1   \n",
       "1  1002945                5                4                 4   \n",
       "2  1015425                3                1                 1   \n",
       "3  1016277                6                8                 8   \n",
       "4  1017023                4                1                 1   \n",
       "\n",
       "   marginal_adhesion  single_epithelial_cell_size bare_nuclei  \\\n",
       "0                  1                            2           1   \n",
       "1                  5                            7          10   \n",
       "2                  1                            2           2   \n",
       "3                  1                            3           4   \n",
       "4                  3                            2           1   \n",
       "\n",
       "   bland_chromatin  normal_nucleoli  mitosis  class  \n",
       "0                3                1        1      2  \n",
       "1                3                2        1      2  \n",
       "2                3                1        1      2  \n",
       "3                3                7        1      2  \n",
       "4                3                1        1      2  "
      ]
     },
     "execution_count": 3,
     "metadata": {},
     "output_type": "execute_result"
    }
   ],
   "source": [
    "bc.head()"
   ]
  },
  {
   "cell_type": "code",
   "execution_count": 4,
   "metadata": {},
   "outputs": [
    {
     "data": {
      "text/plain": [
       "id                              int64\n",
       "clump_thickness                 int64\n",
       "uniformity_size                 int64\n",
       "uniformity_shape                int64\n",
       "marginal_adhesion               int64\n",
       "single_epithelial_cell_size     int64\n",
       "bare_nuclei                    object\n",
       "bland_chromatin                 int64\n",
       "normal_nucleoli                 int64\n",
       "mitosis                         int64\n",
       "class                           int64\n",
       "dtype: object"
      ]
     },
     "execution_count": 4,
     "metadata": {},
     "output_type": "execute_result"
    }
   ],
   "source": [
    "bc.dtypes"
   ]
  },
  {
   "cell_type": "code",
   "execution_count": 5,
   "metadata": {},
   "outputs": [],
   "source": [
    "# Bare nuclei have '?', drop rows with those values\n",
    "bc['bare_nuclei'] = pd.to_numeric(bc['bare_nuclei'], errors='coerce')\n",
    "bc = bc.dropna() "
   ]
  },
  {
   "cell_type": "code",
   "execution_count": 6,
   "metadata": {},
   "outputs": [
    {
     "data": {
      "text/plain": [
       "(array([2, 4]), array([444, 239]))"
      ]
     },
     "execution_count": 6,
     "metadata": {},
     "output_type": "execute_result"
    }
   ],
   "source": [
    "# Check for label imbalance\n",
    "np.unique(bc['class'], return_counts=True)"
   ]
  },
  {
   "cell_type": "code",
   "execution_count": 7,
   "metadata": {},
   "outputs": [
    {
     "data": {
      "text/html": [
       "<div>\n",
       "<style scoped>\n",
       "    .dataframe tbody tr th:only-of-type {\n",
       "        vertical-align: middle;\n",
       "    }\n",
       "\n",
       "    .dataframe tbody tr th {\n",
       "        vertical-align: top;\n",
       "    }\n",
       "\n",
       "    .dataframe thead th {\n",
       "        text-align: right;\n",
       "    }\n",
       "</style>\n",
       "<table border=\"1\" class=\"dataframe\">\n",
       "  <thead>\n",
       "    <tr style=\"text-align: right;\">\n",
       "      <th></th>\n",
       "      <th>id</th>\n",
       "      <th>clump_thickness</th>\n",
       "      <th>uniformity_size</th>\n",
       "      <th>uniformity_shape</th>\n",
       "      <th>marginal_adhesion</th>\n",
       "      <th>single_epithelial_cell_size</th>\n",
       "      <th>bare_nuclei</th>\n",
       "      <th>bland_chromatin</th>\n",
       "      <th>normal_nucleoli</th>\n",
       "      <th>mitosis</th>\n",
       "      <th>class</th>\n",
       "    </tr>\n",
       "  </thead>\n",
       "  <tbody>\n",
       "    <tr>\n",
       "      <th>count</th>\n",
       "      <td>6.830000e+02</td>\n",
       "      <td>683.000000</td>\n",
       "      <td>683.000000</td>\n",
       "      <td>683.000000</td>\n",
       "      <td>683.000000</td>\n",
       "      <td>683.000000</td>\n",
       "      <td>683.000000</td>\n",
       "      <td>683.000000</td>\n",
       "      <td>683.000000</td>\n",
       "      <td>683.000000</td>\n",
       "      <td>683.000000</td>\n",
       "    </tr>\n",
       "    <tr>\n",
       "      <th>mean</th>\n",
       "      <td>1.076720e+06</td>\n",
       "      <td>4.442167</td>\n",
       "      <td>3.150805</td>\n",
       "      <td>3.215227</td>\n",
       "      <td>2.830161</td>\n",
       "      <td>3.234261</td>\n",
       "      <td>3.544656</td>\n",
       "      <td>3.445095</td>\n",
       "      <td>2.869693</td>\n",
       "      <td>1.603221</td>\n",
       "      <td>2.699854</td>\n",
       "    </tr>\n",
       "    <tr>\n",
       "      <th>std</th>\n",
       "      <td>6.206440e+05</td>\n",
       "      <td>2.820761</td>\n",
       "      <td>3.065145</td>\n",
       "      <td>2.988581</td>\n",
       "      <td>2.864562</td>\n",
       "      <td>2.223085</td>\n",
       "      <td>3.643857</td>\n",
       "      <td>2.449697</td>\n",
       "      <td>3.052666</td>\n",
       "      <td>1.732674</td>\n",
       "      <td>0.954592</td>\n",
       "    </tr>\n",
       "    <tr>\n",
       "      <th>min</th>\n",
       "      <td>6.337500e+04</td>\n",
       "      <td>1.000000</td>\n",
       "      <td>1.000000</td>\n",
       "      <td>1.000000</td>\n",
       "      <td>1.000000</td>\n",
       "      <td>1.000000</td>\n",
       "      <td>1.000000</td>\n",
       "      <td>1.000000</td>\n",
       "      <td>1.000000</td>\n",
       "      <td>1.000000</td>\n",
       "      <td>2.000000</td>\n",
       "    </tr>\n",
       "    <tr>\n",
       "      <th>25%</th>\n",
       "      <td>8.776170e+05</td>\n",
       "      <td>2.000000</td>\n",
       "      <td>1.000000</td>\n",
       "      <td>1.000000</td>\n",
       "      <td>1.000000</td>\n",
       "      <td>2.000000</td>\n",
       "      <td>1.000000</td>\n",
       "      <td>2.000000</td>\n",
       "      <td>1.000000</td>\n",
       "      <td>1.000000</td>\n",
       "      <td>2.000000</td>\n",
       "    </tr>\n",
       "    <tr>\n",
       "      <th>50%</th>\n",
       "      <td>1.171795e+06</td>\n",
       "      <td>4.000000</td>\n",
       "      <td>1.000000</td>\n",
       "      <td>1.000000</td>\n",
       "      <td>1.000000</td>\n",
       "      <td>2.000000</td>\n",
       "      <td>1.000000</td>\n",
       "      <td>3.000000</td>\n",
       "      <td>1.000000</td>\n",
       "      <td>1.000000</td>\n",
       "      <td>2.000000</td>\n",
       "    </tr>\n",
       "    <tr>\n",
       "      <th>75%</th>\n",
       "      <td>1.238705e+06</td>\n",
       "      <td>6.000000</td>\n",
       "      <td>5.000000</td>\n",
       "      <td>5.000000</td>\n",
       "      <td>4.000000</td>\n",
       "      <td>4.000000</td>\n",
       "      <td>6.000000</td>\n",
       "      <td>5.000000</td>\n",
       "      <td>4.000000</td>\n",
       "      <td>1.000000</td>\n",
       "      <td>4.000000</td>\n",
       "    </tr>\n",
       "    <tr>\n",
       "      <th>max</th>\n",
       "      <td>1.345435e+07</td>\n",
       "      <td>10.000000</td>\n",
       "      <td>10.000000</td>\n",
       "      <td>10.000000</td>\n",
       "      <td>10.000000</td>\n",
       "      <td>10.000000</td>\n",
       "      <td>10.000000</td>\n",
       "      <td>10.000000</td>\n",
       "      <td>10.000000</td>\n",
       "      <td>10.000000</td>\n",
       "      <td>4.000000</td>\n",
       "    </tr>\n",
       "  </tbody>\n",
       "</table>\n",
       "</div>"
      ],
      "text/plain": [
       "                 id  clump_thickness  uniformity_size  uniformity_shape  \\\n",
       "count  6.830000e+02       683.000000       683.000000        683.000000   \n",
       "mean   1.076720e+06         4.442167         3.150805          3.215227   \n",
       "std    6.206440e+05         2.820761         3.065145          2.988581   \n",
       "min    6.337500e+04         1.000000         1.000000          1.000000   \n",
       "25%    8.776170e+05         2.000000         1.000000          1.000000   \n",
       "50%    1.171795e+06         4.000000         1.000000          1.000000   \n",
       "75%    1.238705e+06         6.000000         5.000000          5.000000   \n",
       "max    1.345435e+07        10.000000        10.000000         10.000000   \n",
       "\n",
       "       marginal_adhesion  single_epithelial_cell_size  bare_nuclei  \\\n",
       "count         683.000000                   683.000000   683.000000   \n",
       "mean            2.830161                     3.234261     3.544656   \n",
       "std             2.864562                     2.223085     3.643857   \n",
       "min             1.000000                     1.000000     1.000000   \n",
       "25%             1.000000                     2.000000     1.000000   \n",
       "50%             1.000000                     2.000000     1.000000   \n",
       "75%             4.000000                     4.000000     6.000000   \n",
       "max            10.000000                    10.000000    10.000000   \n",
       "\n",
       "       bland_chromatin  normal_nucleoli     mitosis       class  \n",
       "count       683.000000       683.000000  683.000000  683.000000  \n",
       "mean          3.445095         2.869693    1.603221    2.699854  \n",
       "std           2.449697         3.052666    1.732674    0.954592  \n",
       "min           1.000000         1.000000    1.000000    2.000000  \n",
       "25%           2.000000         1.000000    1.000000    2.000000  \n",
       "50%           3.000000         1.000000    1.000000    2.000000  \n",
       "75%           5.000000         4.000000    1.000000    4.000000  \n",
       "max          10.000000        10.000000   10.000000    4.000000  "
      ]
     },
     "execution_count": 7,
     "metadata": {},
     "output_type": "execute_result"
    }
   ],
   "source": [
    "bc.describe()"
   ]
  },
  {
   "cell_type": "code",
   "execution_count": 8,
   "metadata": {},
   "outputs": [],
   "source": [
    "# Change positive to 1, negative to 0\n",
    "bc.loc[bc['class'] == 4,'class'] = 1\n",
    "bc.loc[bc['class'] == 2,'class'] = 0\n",
    "X = bc.iloc[:, 1:10]\n",
    "Y = bc.iloc[:, 10]"
   ]
  },
  {
   "cell_type": "code",
   "execution_count": 9,
   "metadata": {},
   "outputs": [],
   "source": [
    "# Split train, test data\n",
    "X_train, X_test, y_train, y_test = train_test_split(X, Y, test_size = 0.3, random_state=1)"
   ]
  },
  {
   "cell_type": "markdown",
   "metadata": {},
   "source": [
    "### 1, 2). Test both entropy and the gini coefficient. Which performs better and why?   What are the best hyperparameter settings for both?"
   ]
  },
  {
   "cell_type": "code",
   "execution_count": 10,
   "metadata": {},
   "outputs": [],
   "source": [
    "# This probably isn't the best way to test hyper parameters,\n",
    "# but I will loop throught the following values and picks\n",
    "# the hyperparameter values that maximize accuracy.\n",
    "max_depth = [1, 2, 3, 4, 5, 6, 7, 8]\n",
    "max_leaves = [2, 3, 4, 5, 6, 7, 8, 9, 10]\n",
    "\n",
    "# Each function saves accuracy (value) to the corresponding\n",
    "# key (hyperparamter value) for comparison.\n",
    "def hyper_param_max_depth(param):\n",
    "    accuracy_ent = {}\n",
    "    accuracy_gini = {}\n",
    "    \n",
    "    for i in param:\n",
    "        # entropy\n",
    "        model_ent = DecisionTreeClassifier(max_depth = i, criterion = 'entropy')\n",
    "        model_ent.fit(X_train, y_train)\n",
    "        y_ent_pred = model_ent.predict(X_test)\n",
    "        accuracy_ent[i] = accuracy_score(y_test, y_ent_pred)*100\n",
    "\n",
    "        # gini\n",
    "        model_gini = DecisionTreeClassifier(max_depth = i)\n",
    "        model_gini.fit(X_train, y_train)\n",
    "        y_gini_pred = model_gini.predict(X_test)\n",
    "        accuracy_gini[i] = accuracy_score(y_test, y_gini_pred)*100\n",
    "    return(accuracy_ent, accuracy_gini)\n",
    "\n",
    "def hyper_param_max_leaves(param):\n",
    "    accuracy_ent = {}\n",
    "    accuracy_gini = {}\n",
    "    \n",
    "    for i in param:\n",
    "        # entropy\n",
    "        model_ent = DecisionTreeClassifier(max_leaf_nodes = i, criterion = 'entropy')\n",
    "        model_ent.fit(X_train, y_train)\n",
    "        y_ent_pred = model_ent.predict(X_test)\n",
    "        accuracy_ent[i] = accuracy_score(y_test, y_ent_pred)*100\n",
    "\n",
    "        # gini\n",
    "        model_gini = DecisionTreeClassifier(max_leaf_nodes = i)\n",
    "        model_gini.fit(X_train, y_train)\n",
    "        y_gini_pred = model_gini.predict(X_test)\n",
    "        accuracy_gini[i] = accuracy_score(y_test, y_gini_pred)*100\n",
    "    return(accuracy_ent, accuracy_gini)"
   ]
  },
  {
   "cell_type": "code",
   "execution_count": 11,
   "metadata": {},
   "outputs": [],
   "source": [
    "accuracy_ent,accuracy_gini = hyper_param_max_depth(max_depth)"
   ]
  },
  {
   "cell_type": "code",
   "execution_count": 12,
   "metadata": {},
   "outputs": [
    {
     "data": {
      "text/plain": [
       "{1: 92.19512195121952,\n",
       " 2: 92.19512195121952,\n",
       " 3: 95.60975609756098,\n",
       " 4: 95.60975609756098,\n",
       " 5: 95.60975609756098,\n",
       " 6: 94.6341463414634,\n",
       " 7: 95.60975609756098,\n",
       " 8: 94.6341463414634}"
      ]
     },
     "execution_count": 12,
     "metadata": {},
     "output_type": "execute_result"
    }
   ],
   "source": [
    "# Max depth: Accuracy\n",
    "# 5 as a max depth maximizes the accuracy for entropy model\n",
    "accuracy_ent"
   ]
  },
  {
   "cell_type": "code",
   "execution_count": 13,
   "metadata": {},
   "outputs": [
    {
     "data": {
      "text/plain": [
       "{1: 92.19512195121952,\n",
       " 2: 95.1219512195122,\n",
       " 3: 94.6341463414634,\n",
       " 4: 96.09756097560975,\n",
       " 5: 97.07317073170731,\n",
       " 6: 96.09756097560975,\n",
       " 7: 96.09756097560975,\n",
       " 8: 96.09756097560975}"
      ]
     },
     "execution_count": 13,
     "metadata": {},
     "output_type": "execute_result"
    }
   ],
   "source": [
    "# Max depth: Accuracy\n",
    "# 5 as a max depth maximizes the accuracy for gini model\n",
    "accuracy_gini"
   ]
  },
  {
   "cell_type": "code",
   "execution_count": 14,
   "metadata": {},
   "outputs": [],
   "source": [
    "accuracy_ent,accuracy_gini = hyper_param_max_leaves(max_leaves)"
   ]
  },
  {
   "cell_type": "code",
   "execution_count": 15,
   "metadata": {},
   "outputs": [
    {
     "data": {
      "text/plain": [
       "{2: 92.19512195121952,\n",
       " 3: 92.19512195121952,\n",
       " 4: 92.19512195121952,\n",
       " 5: 94.6341463414634,\n",
       " 6: 95.60975609756098,\n",
       " 7: 95.60975609756098,\n",
       " 8: 95.60975609756098,\n",
       " 9: 95.60975609756098,\n",
       " 10: 95.60975609756098}"
      ]
     },
     "execution_count": 15,
     "metadata": {},
     "output_type": "execute_result"
    }
   ],
   "source": [
    "# Max leaves: Accuracy\n",
    "# 6 as a max leaves maximizes the accuracy for entropy model\n",
    "accuracy_ent"
   ]
  },
  {
   "cell_type": "code",
   "execution_count": 16,
   "metadata": {},
   "outputs": [
    {
     "data": {
      "text/plain": [
       "{2: 92.19512195121952,\n",
       " 3: 95.1219512195122,\n",
       " 4: 95.60975609756098,\n",
       " 5: 94.6341463414634,\n",
       " 6: 95.60975609756098,\n",
       " 7: 96.09756097560975,\n",
       " 8: 96.09756097560975,\n",
       " 9: 96.09756097560975,\n",
       " 10: 96.09756097560975}"
      ]
     },
     "execution_count": 16,
     "metadata": {},
     "output_type": "execute_result"
    }
   ],
   "source": [
    "# Max leaves: Accuracy\n",
    "# 7 as a max leaves maximizes the accuracy for gini model\n",
    "accuracy_gini"
   ]
  },
  {
   "cell_type": "markdown",
   "metadata": {},
   "source": [
    "The hyper parameter values for max depth and max number of leaves that create the best accuracy for predictions are:\n",
    "\n",
    "Max Depth -> 5\n",
    "\n",
    "Max Number of Leaves -> 7"
   ]
  },
  {
   "cell_type": "markdown",
   "metadata": {},
   "source": [
    "### Entropy or Gini?\n",
    "Test the hyperparameters above on both gini and entropy\n",
    "decision tree models for comparison.  I will use the f1 score on both test and train sets to look for over/under fitting."
   ]
  },
  {
   "cell_type": "code",
   "execution_count": 17,
   "metadata": {},
   "outputs": [],
   "source": [
    "# Entropy\n",
    "model_ent = DecisionTreeClassifier(max_leaf_nodes = 7, max_depth=5, criterion = 'entropy')\n",
    "model_ent.fit(X_train, y_train)\n",
    "y_ent_pred = model_ent.predict(X_test)\n",
    "\n",
    "# Gini\n",
    "model_gini = DecisionTreeClassifier(max_leaf_nodes = 7, max_depth=5)\n",
    "model_gini.fit(X_train, y_train)\n",
    "y_gini_pred = model_gini.predict(X_test)"
   ]
  },
  {
   "cell_type": "code",
   "execution_count": 18,
   "metadata": {},
   "outputs": [
    {
     "name": "stdout",
     "output_type": "stream",
     "text": [
      "Entropy accuracy is : 95.60975609756098%\n",
      "Gini accuracy is : 96.09756097560975%\n"
     ]
    }
   ],
   "source": [
    "print(\"Entropy accuracy is : {}%\".format(accuracy_score(y_test, y_ent_pred)*100))\n",
    "print(\"Gini accuracy is : {}%\".format(accuracy_score(y_test, y_gini_pred)*100))"
   ]
  },
  {
   "cell_type": "code",
   "execution_count": 19,
   "metadata": {},
   "outputs": [],
   "source": [
    "# Generate predictions for both entropy, gini models using \n",
    "# train and test data\n",
    "y_train_ent_pred = model_ent.predict(X_train)\n",
    "y_train_gini_pred = model_gini.predict(X_train)\n",
    "y_test_ent_pred = model_ent.predict(X_test)\n",
    "y_test_gini_pred = model_gini.predict(X_test)"
   ]
  },
  {
   "cell_type": "code",
   "execution_count": 20,
   "metadata": {},
   "outputs": [
    {
     "data": {
      "text/html": [
       "<div>\n",
       "<style scoped>\n",
       "    .dataframe tbody tr th:only-of-type {\n",
       "        vertical-align: middle;\n",
       "    }\n",
       "\n",
       "    .dataframe tbody tr th {\n",
       "        vertical-align: top;\n",
       "    }\n",
       "\n",
       "    .dataframe thead th {\n",
       "        text-align: right;\n",
       "    }\n",
       "</style>\n",
       "<table border=\"1\" class=\"dataframe\">\n",
       "  <thead>\n",
       "    <tr style=\"text-align: right;\">\n",
       "      <th></th>\n",
       "      <th>criteria</th>\n",
       "      <th>data</th>\n",
       "      <th>metric</th>\n",
       "    </tr>\n",
       "  </thead>\n",
       "  <tbody>\n",
       "    <tr>\n",
       "      <th>0</th>\n",
       "      <td>entropy</td>\n",
       "      <td>train</td>\n",
       "      <td>0.961424</td>\n",
       "    </tr>\n",
       "    <tr>\n",
       "      <th>1</th>\n",
       "      <td>entropy</td>\n",
       "      <td>test</td>\n",
       "      <td>0.939597</td>\n",
       "    </tr>\n",
       "    <tr>\n",
       "      <th>2</th>\n",
       "      <td>gini</td>\n",
       "      <td>train</td>\n",
       "      <td>0.97076</td>\n",
       "    </tr>\n",
       "    <tr>\n",
       "      <th>3</th>\n",
       "      <td>gini</td>\n",
       "      <td>test</td>\n",
       "      <td>0.945946</td>\n",
       "    </tr>\n",
       "  </tbody>\n",
       "</table>\n",
       "</div>"
      ],
      "text/plain": [
       "  criteria   data    metric\n",
       "0  entropy  train  0.961424\n",
       "1  entropy   test  0.939597\n",
       "2     gini  train   0.97076\n",
       "3     gini   test  0.945946"
      ]
     },
     "execution_count": 20,
     "metadata": {},
     "output_type": "execute_result"
    }
   ],
   "source": [
    "# Compare the accuracy between the different models, and the\n",
    "# set of data used in the training.\n",
    "res = pd.DataFrame(columns = [\"criteria\", \"data\", \"metric\"])\n",
    "res.loc[0, :] = [\"entropy\", \"train\", f1_score(y_train, y_train_ent_pred)]\n",
    "res.loc[1, :] = [\"entropy\", \"test\", f1_score(y_test, y_ent_pred)]\n",
    "res.loc[2, :] = [\"gini\", \"train\", f1_score(y_train, y_train_gini_pred)]\n",
    "res.loc[3, :] = [\"gini\", \"test\", f1_score(y_test, y_gini_pred)]\n",
    "res"
   ]
  },
  {
   "cell_type": "code",
   "execution_count": 21,
   "metadata": {},
   "outputs": [
    {
     "data": {
      "text/plain": [
       "<matplotlib.axes._subplots.AxesSubplot at 0x1a1f502dd8>"
      ]
     },
     "execution_count": 21,
     "metadata": {},
     "output_type": "execute_result"
    },
    {
     "data": {
      "image/png": "[encoded data removed]",
      "text/plain": [
       "<Figure size 432x288 with 1 Axes>"
      ]
     },
     "metadata": {
      "needs_background": "light"
     },
     "output_type": "display_data"
    }
   ],
   "source": [
    "bp = sns.barplot(x =  \"data\", hue = \"criteria\", y = \"metric\", data = res)\n",
    "bp.legend(frameon = False, loc = \"upper center\", ncol = 2)\n",
    "bp.set_ylim(0, 1)\n",
    "bp"
   ]
  },
  {
   "cell_type": "markdown",
   "metadata": {},
   "source": [
    "### Summary:\n",
    "Both the Entropy and Gini models are overfitting when choosing the max depth and max number of leaves that maximizes accuracy, which I guess is not surprising.  I investegated further by playing with the hyperparamters to try and achieve balance, but the results were still overfit when observing the f1 score of the two models trained on the train and test data. Because the gini model has higher accuracy for both train and test sets, while being about as overfit as the entropy model, I will move forward with the gini model.  However, as we will see in the next section, the entropy decision tree is much less one sided than the gini decision tree."
   ]
  },
  {
   "cell_type": "markdown",
   "metadata": {},
   "source": [
    "### 3. Visualize both models and see which feature is selected for each criterion. Are they same for both? Why or why not?"
   ]
  },
  {
   "cell_type": "code",
   "execution_count": null,
   "metadata": {},
   "outputs": [],
   "source": [
    "from sklearn import tree\n",
    "import os\n",
    "dotfile = open(\"dtree.dot\", 'w')\n",
    "tree.export_graphviz(model_gini, out_file = dotfile, feature_names = names[1:10])\n",
    "dotfile.close()\n",
    "os.environ[\"PATH\"] += os.pathsep + '/Users/dusty/anaconda3/pkgs/graphviz-2.40.1-hefbbd9a_2/lib/graphviz'\n",
    "os.system('dot -Tpng dtree.dot -o dtree.png')"
   ]
  },
  {
   "cell_type": "code",
   "execution_count": 22,
   "metadata": {},
   "outputs": [],
   "source": [
    "from sklearn import tree\n",
    "dotfile = open(\"dtree.dot\", 'w')\n",
    "dotfile2 = open(\"dtree2.dot\", 'w')\n",
    "tree.export_graphviz(model_gini, out_file = dotfile, feature_names = names[1:10])\n",
    "tree.export_graphviz(model_ent, out_file = dotfile2, feature_names = names[1:10])\n",
    "dotfile.close()\n",
    "dotfile2.close()"
   ]
  },
  {
   "cell_type": "code",
   "execution_count": 23,
   "metadata": {},
   "outputs": [
    {
     "data": {
      "text/plain": [
       "0"
      ]
     },
     "execution_count": 23,
     "metadata": {},
     "output_type": "execute_result"
    }
   ],
   "source": [
    "import os\n",
    "os.environ[\"PATH\"] += os.pathsep + '/Users/dusty/anaconda3/pkgs/graphviz-2.40.1-hefbbd9a_2/lib/graphviz'\n",
    "os.system('dot -Tpng dtree.dot -o dtree.png')\n",
    "os.system('dot -Tpng dtree2.dot -o dtree2.png')"
   ]
  },
  {
   "cell_type": "markdown",
   "metadata": {},
   "source": [
    "### Gini  Model Tree"
   ]
  },
  {
   "cell_type": "markdown",
   "metadata": {},
   "source": [
    "<img src=\"dtree.png\">"
   ]
  },
  {
   "cell_type": "markdown",
   "metadata": {},
   "source": [
    "### Entropy Model"
   ]
  },
  {
   "cell_type": "markdown",
   "metadata": {},
   "source": [
    "<img src=\"dtree2.png\">"
   ]
  },
  {
   "cell_type": "markdown",
   "metadata": {},
   "source": [
    "The features selected in the gini model are slightly different in location than the entropy model, but the total set of selective features is the same.  The factors that share the same level are uniformity_size (most important), and clump thickness.  The differences that are most noticable are where the features used are.  Features like bare_nuclei and normal_nuclei are in both, but appear in differnt places in the tree.  Both models appear to do well, but the gini model has a tree that isn't split as evenly (bare_nuclei).  However, the gini tree does a better job of predicting benign or malignant."
   ]
  },
  {
   "cell_type": "markdown",
   "metadata": {},
   "source": [
    "### 4. Determine the AUC for the best model you can achieve. What are the precision and recal values and which might be the one you want to maximize?"
   ]
  },
  {
   "cell_type": "code",
   "execution_count": 24,
   "metadata": {},
   "outputs": [],
   "source": [
    "CM = metrics.confusion_matrix(y_test, y_gini_pred)\n",
    "tn, fp, fn, tp = CM.ravel()"
   ]
  },
  {
   "cell_type": "code",
   "execution_count": 25,
   "metadata": {},
   "outputs": [
    {
     "name": "stdout",
     "output_type": "stream",
     "text": [
      "[0, 1]\n"
     ]
    }
   ],
   "source": [
    "print(list(set(y_test)))"
   ]
  },
  {
   "cell_type": "code",
   "execution_count": 26,
   "metadata": {},
   "outputs": [
    {
     "name": "stdout",
     "output_type": "stream",
     "text": [
      "True Negative:  127\n",
      "False Positive:  6\n",
      "False Negative:  2\n",
      "True Positive:  70\n"
     ]
    }
   ],
   "source": [
    "print('True Negative: ', tn)\n",
    "print('False Positive: ', fp)\n",
    "print('False Negative: ', fn)\n",
    "print('True Positive: ', tp)"
   ]
  },
  {
   "cell_type": "code",
   "execution_count": 27,
   "metadata": {},
   "outputs": [
    {
     "name": "stdout",
     "output_type": "stream",
     "text": [
      "Area Under Curve: 0.9635547201336675\n"
     ]
    },
    {
     "data": {
      "image/png": "[encoded data removed]",
      "text/plain": [
       "<Figure size 576x576 with 1 Axes>"
      ]
     },
     "metadata": {
      "needs_background": "light"
     },
     "output_type": "display_data"
    }
   ],
   "source": [
    "# Generate True Positive Rate, Fale Positive Rate\n",
    "fpr, tpr, th = roc_curve(y_test, y_gini_pred)\n",
    "\n",
    "# Generate Area Under the ROC Curve\n",
    "AUC = auc(fpr, tpr)\n",
    "print(\"Area Under Curve:\", AUC)\n",
    "\n",
    "# Generate ROC Plot\n",
    "plt.rcParams[\"figure.figsize\"] = [8, 8] # Square\n",
    "plt.figure()\n",
    "plt.title('ROC Curve')\n",
    "plt.xlabel('FPR')\n",
    "plt.ylabel('TPR')\n",
    "plt.plot(fpr, tpr, LW=3, label='ROC curve (AUC = %0.2f)' % AUC)\n",
    "plt.plot([0, 1], [0, 1], color='navy', LW=3, linestyle='--') # reference line for random classifier\n",
    "plt.legend(loc=\"lower right\")\n",
    "plt.show()"
   ]
  },
  {
   "cell_type": "code",
   "execution_count": 28,
   "metadata": {},
   "outputs": [
    {
     "name": "stdout",
     "output_type": "stream",
     "text": [
      "precision: 0.9210526315789473\n",
      "recall: 0.9722222222222222\n"
     ]
    }
   ],
   "source": [
    "precision = precision_score(y_test, y_gini_pred)\n",
    "print(\"precision:\", precision)\n",
    "recall = recall_score(y_test, y_gini_pred)\n",
    "print(\"recall:\", recall)"
   ]
  },
  {
   "cell_type": "markdown",
   "metadata": {},
   "source": [
    "#### What are the precision and recal values and which might be the one you want to maximize?\n",
    "\n",
    "Precision: 0.92\n",
    "\n",
    "Recall 0.97\n",
    "\n",
    "Because we are working with a serious classification, whether or not a person has breast cancer, we would rather have more false positives than false negatives.  If a tumer is labeled positive, but it actually negative, a followup test would most likely provide the correct label of benign.  However, if a tumer is labeled as benign when it is not, that person will be in serious harm in the near future.  As a result we will want to maximize recall.  Recall is the fraction of true positive identified divided by the ground truth number of positive tumors.  If we maximize this, then that means a small number of true positive are slipping through the cracks.  Looking at the recall for this model, I believe that our model will do a good job of having a small number of false positives, and we can see this by looking at the confusin matrix.  "
   ]
  },
  {
   "cell_type": "markdown",
   "metadata": {},
   "source": [
    "### 5. What are the implications of using this type of machine learning algorithm for breast cancer analysis?"
   ]
  },
  {
   "cell_type": "markdown",
   "metadata": {},
   "source": [
    "The gini decision tree algorithm does a good job of classifying whether a tumor is dangerous or not, with an accuracy of 96.1% and a recall of 97%.  However, because this is a \"high stakes\" model, where a misclassification can mean life or death for an individual, we should use a more complicated model that has higher accuracy and recall.  I'm sure the models we will learn about this week (embedded models) will provide a better results."
   ]
  }
 ],
 "metadata": {
  "kernelspec": {
   "display_name": "Python 3",
   "language": "python",
   "name": "python3"
  },
  "language_info": {
   "codemirror_mode": {
    "name": "ipython",
    "version": 3
   },
   "file_extension": ".py",
   "mimetype": "text/x-python",
   "name": "python",
   "nbconvert_exporter": "python",
   "pygments_lexer": "ipython3",
   "version": "3.6.8"
  }
 },
 "nbformat": 4,
 "nbformat_minor": 2
}
