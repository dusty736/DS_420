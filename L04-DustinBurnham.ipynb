{
 "cells": [
  {
   "cell_type": "markdown",
   "metadata": {},
   "source": [
    "# Lesson 4 Assignment:\n",
    "\n",
    "## Feature Selection\n",
    "\n",
    "### Author: Dustin Burnham\n",
    "\n",
    "### Due: 8/4/2019\n",
    "\n",
    "You are working for a data science consulting company. Your company is approached by a client requesting that you analyze crime data across the United States. At first glance, you notice that the data has 128 attributes and cannot be examined manually. The data combines socio-economic data from the 1990 US Census, law enforcement data from the 1990 US LEMAS survey, and crime data from the 1995 FBI UCR. You are tasked to identify which are the most important features or attributes that contribute to crime. \n",
    "\n",
    "Generally, such data might be used for predictive policing, where police departments can predict potential criminal activity so they can ensure they are properly staffed and the areas of concern are patrolled accordingly.\n",
    "\n",
    "1. Read data.\n",
    "2. Apply three techniques for filter selection: Filter methods, Wrapper methods, Embedded methods.\n",
    "3. Describe your findings"
   ]
  },
  {
   "cell_type": "markdown",
   "metadata": {},
   "source": [
    "### 1.  Read Data"
   ]
  },
  {
   "cell_type": "code",
   "execution_count": 1,
   "metadata": {},
   "outputs": [],
   "source": [
    "import numpy as np\n",
    "import matplotlib.pyplot as plt\n",
    "%matplotlib inline\n",
    "from sklearn.metrics import mutual_info_score\n",
    "import numpy as np\n",
    "from sklearn.datasets import make_friedman1\n",
    "from sklearn.feature_selection import RFE # Recursive Feature Elimination\n",
    "from sklearn.linear_model import LinearRegression\n",
    "import pandas as pd\n",
    "from sklearn.linear_model import LinearRegression\n",
    "from mlxtend.feature_selection import SequentialFeatureSelector as SFS\n",
    "import matplotlib.pyplot as plt\n",
    "from mlxtend.plotting import plot_sequential_feature_selection as plot_sfs\n",
    "import seaborn as sns\n",
    "import sklearn\n",
    "from sklearn.model_selection import train_test_split"
   ]
  },
  {
   "cell_type": "code",
   "execution_count": 2,
   "metadata": {},
   "outputs": [],
   "source": [
    "# Files with features names needed formatting\n",
    "names = \"\"\"@attribute state numeric\n",
    "@attribute county numeric\n",
    "@attribute community numeric\n",
    "@attribute communityname string\n",
    "@attribute fold numeric\n",
    "@attribute population numeric\n",
    "@attribute householdsize numeric\n",
    "@attribute racepctblack numeric\n",
    "@attribute racePctWhite numeric\n",
    "@attribute racePctAsian numeric\n",
    "@attribute racePctHisp numeric\n",
    "@attribute agePct12t21 numeric\n",
    "@attribute agePct12t29 numeric\n",
    "@attribute agePct16t24 numeric\n",
    "@attribute agePct65up numeric\n",
    "@attribute numbUrban numeric\n",
    "@attribute pctUrban numeric\n",
    "@attribute medIncome numeric\n",
    "@attribute pctWWage numeric\n",
    "@attribute pctWFarmSelf numeric\n",
    "@attribute pctWInvInc numeric\n",
    "@attribute pctWSocSec numeric\n",
    "@attribute pctWPubAsst numeric\n",
    "@attribute pctWRetire numeric\n",
    "@attribute medFamInc numeric\n",
    "@attribute perCapInc numeric\n",
    "@attribute whitePerCap numeric\n",
    "@attribute blackPerCap numeric\n",
    "@attribute indianPerCap numeric\n",
    "@attribute AsianPerCap numeric\n",
    "@attribute OtherPerCap numeric\n",
    "@attribute HispPerCap numeric\n",
    "@attribute NumUnderPov numeric\n",
    "@attribute PctPopUnderPov numeric\n",
    "@attribute PctLess9thGrade numeric\n",
    "@attribute PctNotHSGrad numeric\n",
    "@attribute PctBSorMore numeric\n",
    "@attribute PctUnemployed numeric\n",
    "@attribute PctEmploy numeric\n",
    "@attribute PctEmplManu numeric\n",
    "@attribute PctEmplProfServ numeric\n",
    "@attribute PctOccupManu numeric\n",
    "@attribute PctOccupMgmtProf numeric\n",
    "@attribute MalePctDivorce numeric\n",
    "@attribute MalePctNevMarr numeric\n",
    "@attribute FemalePctDiv numeric\n",
    "@attribute TotalPctDiv numeric\n",
    "@attribute PersPerFam numeric\n",
    "@attribute PctFam2Par numeric\n",
    "@attribute PctKids2Par numeric\n",
    "@attribute PctYoungKids2Par numeric\n",
    "@attribute PctTeen2Par numeric\n",
    "@attribute PctWorkMomYoungKids numeric\n",
    "@attribute PctWorkMom numeric\n",
    "@attribute NumIlleg numeric\n",
    "@attribute PctIlleg numeric\n",
    "@attribute NumImmig numeric\n",
    "@attribute PctImmigRecent numeric\n",
    "@attribute PctImmigRec5 numeric\n",
    "@attribute PctImmigRec8 numeric\n",
    "@attribute PctImmigRec10 numeric\n",
    "@attribute PctRecentImmig numeric\n",
    "@attribute PctRecImmig5 numeric\n",
    "@attribute PctRecImmig8 numeric\n",
    "@attribute PctRecImmig10 numeric\n",
    "@attribute PctSpeakEnglOnly numeric\n",
    "@attribute PctNotSpeakEnglWell numeric\n",
    "@attribute PctLargHouseFam numeric\n",
    "@attribute PctLargHouseOccup numeric\n",
    "@attribute PersPerOccupHous numeric\n",
    "@attribute PersPerOwnOccHous numeric\n",
    "@attribute PersPerRentOccHous numeric\n",
    "@attribute PctPersOwnOccup numeric\n",
    "@attribute PctPersDenseHous numeric\n",
    "@attribute PctHousLess3BR numeric\n",
    "@attribute MedNumBR numeric\n",
    "@attribute HousVacant numeric\n",
    "@attribute PctHousOccup numeric\n",
    "@attribute PctHousOwnOcc numeric\n",
    "@attribute PctVacantBoarded numeric\n",
    "@attribute PctVacMore6Mos numeric\n",
    "@attribute MedYrHousBuilt numeric\n",
    "@attribute PctHousNoPhone numeric\n",
    "@attribute PctWOFullPlumb numeric\n",
    "@attribute OwnOccLowQuart numeric\n",
    "@attribute OwnOccMedVal numeric\n",
    "@attribute OwnOccHiQuart numeric\n",
    "@attribute RentLowQ numeric\n",
    "@attribute RentMedian numeric\n",
    "@attribute RentHighQ numeric\n",
    "@attribute MedRent numeric\n",
    "@attribute MedRentPctHousInc numeric\n",
    "@attribute MedOwnCostPctInc numeric\n",
    "@attribute MedOwnCostPctIncNoMtg numeric\n",
    "@attribute NumInShelters numeric\n",
    "@attribute NumStreet numeric\n",
    "@attribute PctForeignBorn numeric\n",
    "@attribute PctBornSameState numeric\n",
    "@attribute PctSameHouse85 numeric\n",
    "@attribute PctSameCity85 numeric\n",
    "@attribute PctSameState85 numeric\n",
    "@attribute LemasSwornFT numeric\n",
    "@attribute LemasSwFTPerPop numeric\n",
    "@attribute LemasSwFTFieldOps numeric\n",
    "@attribute LemasSwFTFieldPerPop numeric\n",
    "@attribute LemasTotalReq numeric\n",
    "@attribute LemasTotReqPerPop numeric\n",
    "@attribute PolicReqPerOffic numeric\n",
    "@attribute PolicPerPop numeric\n",
    "@attribute RacialMatchCommPol numeric\n",
    "@attribute PctPolicWhite numeric\n",
    "@attribute PctPolicBlack numeric\n",
    "@attribute PctPolicHisp numeric\n",
    "@attribute PctPolicAsian numeric\n",
    "@attribute PctPolicMinor numeric\n",
    "@attribute OfficAssgnDrugUnits numeric\n",
    "@attribute NumKindsDrugsSeiz numeric\n",
    "@attribute PolicAveOTWorked numeric\n",
    "@attribute LandArea numeric\n",
    "@attribute PopDens numeric\n",
    "@attribute PctUsePubTrans numeric\n",
    "@attribute PolicCars numeric\n",
    "@attribute PolicOperBudg numeric\n",
    "@attribute LemasPctPolicOnPatr numeric\n",
    "@attribute LemasGangUnitDeploy numeric\n",
    "@attribute LemasPctOfficDrugUn numeric\n",
    "@attribute PolicBudgPerPop numeric\n",
    "@attribute ViolentCrimesPerPop numeric\"\"\"\n",
    "\n",
    "names = names.split(\"@attribute \")\n",
    "words = [names[i].split(\" \") for i in range(len(names))]\n",
    "final_names = [word[0] for word in words]\n",
    "final_names = final_names[1:]"
   ]
  },
  {
   "cell_type": "code",
   "execution_count": 3,
   "metadata": {},
   "outputs": [],
   "source": [
    "# Read in data with feature names\n",
    "data_url = \"http://archive.ics.uci.edu/ml/machine-learning-databases/communities/communities.data\"\n",
    "crime = pd.read_csv(data_url, names = final_names)"
   ]
  },
  {
   "cell_type": "code",
   "execution_count": 4,
   "metadata": {},
   "outputs": [
    {
     "data": {
      "text/html": [
       "<div>\n",
       "<style scoped>\n",
       "    .dataframe tbody tr th:only-of-type {\n",
       "        vertical-align: middle;\n",
       "    }\n",
       "\n",
       "    .dataframe tbody tr th {\n",
       "        vertical-align: top;\n",
       "    }\n",
       "\n",
       "    .dataframe thead th {\n",
       "        text-align: right;\n",
       "    }\n",
       "</style>\n",
       "<table border=\"1\" class=\"dataframe\">\n",
       "  <thead>\n",
       "    <tr style=\"text-align: right;\">\n",
       "      <th></th>\n",
       "      <th>state</th>\n",
       "      <th>county</th>\n",
       "      <th>community</th>\n",
       "      <th>communityname</th>\n",
       "      <th>fold</th>\n",
       "      <th>population</th>\n",
       "      <th>householdsize</th>\n",
       "      <th>racepctblack</th>\n",
       "      <th>racePctWhite</th>\n",
       "      <th>racePctAsian</th>\n",
       "      <th>...</th>\n",
       "      <th>LandArea</th>\n",
       "      <th>PopDens</th>\n",
       "      <th>PctUsePubTrans</th>\n",
       "      <th>PolicCars</th>\n",
       "      <th>PolicOperBudg</th>\n",
       "      <th>LemasPctPolicOnPatr</th>\n",
       "      <th>LemasGangUnitDeploy</th>\n",
       "      <th>LemasPctOfficDrugUn</th>\n",
       "      <th>PolicBudgPerPop</th>\n",
       "      <th>ViolentCrimesPerPop</th>\n",
       "    </tr>\n",
       "  </thead>\n",
       "  <tbody>\n",
       "    <tr>\n",
       "      <th>0</th>\n",
       "      <td>8</td>\n",
       "      <td>?</td>\n",
       "      <td>?</td>\n",
       "      <td>Lakewoodcity</td>\n",
       "      <td>1</td>\n",
       "      <td>0.19</td>\n",
       "      <td>0.33</td>\n",
       "      <td>0.02</td>\n",
       "      <td>0.90</td>\n",
       "      <td>0.12</td>\n",
       "      <td>...</td>\n",
       "      <td>0.12</td>\n",
       "      <td>0.26</td>\n",
       "      <td>0.20</td>\n",
       "      <td>0.06</td>\n",
       "      <td>0.04</td>\n",
       "      <td>0.9</td>\n",
       "      <td>0.5</td>\n",
       "      <td>0.32</td>\n",
       "      <td>0.14</td>\n",
       "      <td>0.20</td>\n",
       "    </tr>\n",
       "    <tr>\n",
       "      <th>1</th>\n",
       "      <td>53</td>\n",
       "      <td>?</td>\n",
       "      <td>?</td>\n",
       "      <td>Tukwilacity</td>\n",
       "      <td>1</td>\n",
       "      <td>0.00</td>\n",
       "      <td>0.16</td>\n",
       "      <td>0.12</td>\n",
       "      <td>0.74</td>\n",
       "      <td>0.45</td>\n",
       "      <td>...</td>\n",
       "      <td>0.02</td>\n",
       "      <td>0.12</td>\n",
       "      <td>0.45</td>\n",
       "      <td>?</td>\n",
       "      <td>?</td>\n",
       "      <td>?</td>\n",
       "      <td>?</td>\n",
       "      <td>0.00</td>\n",
       "      <td>?</td>\n",
       "      <td>0.67</td>\n",
       "    </tr>\n",
       "    <tr>\n",
       "      <th>2</th>\n",
       "      <td>24</td>\n",
       "      <td>?</td>\n",
       "      <td>?</td>\n",
       "      <td>Aberdeentown</td>\n",
       "      <td>1</td>\n",
       "      <td>0.00</td>\n",
       "      <td>0.42</td>\n",
       "      <td>0.49</td>\n",
       "      <td>0.56</td>\n",
       "      <td>0.17</td>\n",
       "      <td>...</td>\n",
       "      <td>0.01</td>\n",
       "      <td>0.21</td>\n",
       "      <td>0.02</td>\n",
       "      <td>?</td>\n",
       "      <td>?</td>\n",
       "      <td>?</td>\n",
       "      <td>?</td>\n",
       "      <td>0.00</td>\n",
       "      <td>?</td>\n",
       "      <td>0.43</td>\n",
       "    </tr>\n",
       "    <tr>\n",
       "      <th>3</th>\n",
       "      <td>34</td>\n",
       "      <td>5</td>\n",
       "      <td>81440</td>\n",
       "      <td>Willingborotownship</td>\n",
       "      <td>1</td>\n",
       "      <td>0.04</td>\n",
       "      <td>0.77</td>\n",
       "      <td>1.00</td>\n",
       "      <td>0.08</td>\n",
       "      <td>0.12</td>\n",
       "      <td>...</td>\n",
       "      <td>0.02</td>\n",
       "      <td>0.39</td>\n",
       "      <td>0.28</td>\n",
       "      <td>?</td>\n",
       "      <td>?</td>\n",
       "      <td>?</td>\n",
       "      <td>?</td>\n",
       "      <td>0.00</td>\n",
       "      <td>?</td>\n",
       "      <td>0.12</td>\n",
       "    </tr>\n",
       "    <tr>\n",
       "      <th>4</th>\n",
       "      <td>42</td>\n",
       "      <td>95</td>\n",
       "      <td>6096</td>\n",
       "      <td>Bethlehemtownship</td>\n",
       "      <td>1</td>\n",
       "      <td>0.01</td>\n",
       "      <td>0.55</td>\n",
       "      <td>0.02</td>\n",
       "      <td>0.95</td>\n",
       "      <td>0.09</td>\n",
       "      <td>...</td>\n",
       "      <td>0.04</td>\n",
       "      <td>0.09</td>\n",
       "      <td>0.02</td>\n",
       "      <td>?</td>\n",
       "      <td>?</td>\n",
       "      <td>?</td>\n",
       "      <td>?</td>\n",
       "      <td>0.00</td>\n",
       "      <td>?</td>\n",
       "      <td>0.03</td>\n",
       "    </tr>\n",
       "  </tbody>\n",
       "</table>\n",
       "<p>5 rows × 128 columns</p>\n",
       "</div>"
      ],
      "text/plain": [
       "   state county community        communityname  fold  population  \\\n",
       "0      8      ?         ?         Lakewoodcity     1        0.19   \n",
       "1     53      ?         ?          Tukwilacity     1        0.00   \n",
       "2     24      ?         ?         Aberdeentown     1        0.00   \n",
       "3     34      5     81440  Willingborotownship     1        0.04   \n",
       "4     42     95      6096    Bethlehemtownship     1        0.01   \n",
       "\n",
       "   householdsize  racepctblack  racePctWhite  racePctAsian  \\\n",
       "0           0.33          0.02          0.90          0.12   \n",
       "1           0.16          0.12          0.74          0.45   \n",
       "2           0.42          0.49          0.56          0.17   \n",
       "3           0.77          1.00          0.08          0.12   \n",
       "4           0.55          0.02          0.95          0.09   \n",
       "\n",
       "          ...           LandArea  PopDens  PctUsePubTrans  PolicCars  \\\n",
       "0         ...               0.12     0.26            0.20       0.06   \n",
       "1         ...               0.02     0.12            0.45          ?   \n",
       "2         ...               0.01     0.21            0.02          ?   \n",
       "3         ...               0.02     0.39            0.28          ?   \n",
       "4         ...               0.04     0.09            0.02          ?   \n",
       "\n",
       "   PolicOperBudg  LemasPctPolicOnPatr  LemasGangUnitDeploy  \\\n",
       "0           0.04                  0.9                  0.5   \n",
       "1              ?                    ?                    ?   \n",
       "2              ?                    ?                    ?   \n",
       "3              ?                    ?                    ?   \n",
       "4              ?                    ?                    ?   \n",
       "\n",
       "   LemasPctOfficDrugUn  PolicBudgPerPop  ViolentCrimesPerPop  \n",
       "0                 0.32             0.14                 0.20  \n",
       "1                 0.00                ?                 0.67  \n",
       "2                 0.00                ?                 0.43  \n",
       "3                 0.00                ?                 0.12  \n",
       "4                 0.00                ?                 0.03  \n",
       "\n",
       "[5 rows x 128 columns]"
      ]
     },
     "execution_count": 4,
     "metadata": {},
     "output_type": "execute_result"
    }
   ],
   "source": [
    "crime.head()"
   ]
  },
  {
   "cell_type": "code",
   "execution_count": 5,
   "metadata": {},
   "outputs": [],
   "source": [
    "# Impute missing data with NaN\n",
    "crime = crime.replace(\"?\", np.float(\"NaN\"))"
   ]
  },
  {
   "cell_type": "code",
   "execution_count": 6,
   "metadata": {},
   "outputs": [],
   "source": [
    "features = crime.iloc[:,5:-1]\n",
    "target = crime.iloc[:,-1]"
   ]
  },
  {
   "cell_type": "code",
   "execution_count": 7,
   "metadata": {},
   "outputs": [],
   "source": [
    "# Replace missing values in features with the mean of that column\n",
    "features = features.astype(\"float\")\n",
    "features = features.fillna(features.mean())"
   ]
  },
  {
   "cell_type": "code",
   "execution_count": 8,
   "metadata": {},
   "outputs": [
    {
     "data": {
      "text/html": [
       "<div>\n",
       "<style scoped>\n",
       "    .dataframe tbody tr th:only-of-type {\n",
       "        vertical-align: middle;\n",
       "    }\n",
       "\n",
       "    .dataframe tbody tr th {\n",
       "        vertical-align: top;\n",
       "    }\n",
       "\n",
       "    .dataframe thead th {\n",
       "        text-align: right;\n",
       "    }\n",
       "</style>\n",
       "<table border=\"1\" class=\"dataframe\">\n",
       "  <thead>\n",
       "    <tr style=\"text-align: right;\">\n",
       "      <th></th>\n",
       "      <th>population</th>\n",
       "      <th>householdsize</th>\n",
       "      <th>racepctblack</th>\n",
       "      <th>racePctWhite</th>\n",
       "      <th>racePctAsian</th>\n",
       "      <th>racePctHisp</th>\n",
       "      <th>agePct12t21</th>\n",
       "      <th>agePct12t29</th>\n",
       "      <th>agePct16t24</th>\n",
       "      <th>agePct65up</th>\n",
       "      <th>...</th>\n",
       "      <th>PolicAveOTWorked</th>\n",
       "      <th>LandArea</th>\n",
       "      <th>PopDens</th>\n",
       "      <th>PctUsePubTrans</th>\n",
       "      <th>PolicCars</th>\n",
       "      <th>PolicOperBudg</th>\n",
       "      <th>LemasPctPolicOnPatr</th>\n",
       "      <th>LemasGangUnitDeploy</th>\n",
       "      <th>LemasPctOfficDrugUn</th>\n",
       "      <th>PolicBudgPerPop</th>\n",
       "    </tr>\n",
       "  </thead>\n",
       "  <tbody>\n",
       "    <tr>\n",
       "      <th>0</th>\n",
       "      <td>0.19</td>\n",
       "      <td>0.33</td>\n",
       "      <td>0.02</td>\n",
       "      <td>0.90</td>\n",
       "      <td>0.12</td>\n",
       "      <td>0.17</td>\n",
       "      <td>0.34</td>\n",
       "      <td>0.47</td>\n",
       "      <td>0.29</td>\n",
       "      <td>0.32</td>\n",
       "      <td>...</td>\n",
       "      <td>0.290000</td>\n",
       "      <td>0.12</td>\n",
       "      <td>0.26</td>\n",
       "      <td>0.20</td>\n",
       "      <td>0.060000</td>\n",
       "      <td>0.040000</td>\n",
       "      <td>0.900000</td>\n",
       "      <td>0.500000</td>\n",
       "      <td>0.32</td>\n",
       "      <td>0.140000</td>\n",
       "    </tr>\n",
       "    <tr>\n",
       "      <th>1</th>\n",
       "      <td>0.00</td>\n",
       "      <td>0.16</td>\n",
       "      <td>0.12</td>\n",
       "      <td>0.74</td>\n",
       "      <td>0.45</td>\n",
       "      <td>0.07</td>\n",
       "      <td>0.26</td>\n",
       "      <td>0.59</td>\n",
       "      <td>0.35</td>\n",
       "      <td>0.27</td>\n",
       "      <td>...</td>\n",
       "      <td>0.305987</td>\n",
       "      <td>0.02</td>\n",
       "      <td>0.12</td>\n",
       "      <td>0.45</td>\n",
       "      <td>0.163103</td>\n",
       "      <td>0.076708</td>\n",
       "      <td>0.698589</td>\n",
       "      <td>0.440439</td>\n",
       "      <td>0.00</td>\n",
       "      <td>0.195078</td>\n",
       "    </tr>\n",
       "    <tr>\n",
       "      <th>2</th>\n",
       "      <td>0.00</td>\n",
       "      <td>0.42</td>\n",
       "      <td>0.49</td>\n",
       "      <td>0.56</td>\n",
       "      <td>0.17</td>\n",
       "      <td>0.04</td>\n",
       "      <td>0.39</td>\n",
       "      <td>0.47</td>\n",
       "      <td>0.28</td>\n",
       "      <td>0.32</td>\n",
       "      <td>...</td>\n",
       "      <td>0.305987</td>\n",
       "      <td>0.01</td>\n",
       "      <td>0.21</td>\n",
       "      <td>0.02</td>\n",
       "      <td>0.163103</td>\n",
       "      <td>0.076708</td>\n",
       "      <td>0.698589</td>\n",
       "      <td>0.440439</td>\n",
       "      <td>0.00</td>\n",
       "      <td>0.195078</td>\n",
       "    </tr>\n",
       "    <tr>\n",
       "      <th>3</th>\n",
       "      <td>0.04</td>\n",
       "      <td>0.77</td>\n",
       "      <td>1.00</td>\n",
       "      <td>0.08</td>\n",
       "      <td>0.12</td>\n",
       "      <td>0.10</td>\n",
       "      <td>0.51</td>\n",
       "      <td>0.50</td>\n",
       "      <td>0.34</td>\n",
       "      <td>0.21</td>\n",
       "      <td>...</td>\n",
       "      <td>0.305987</td>\n",
       "      <td>0.02</td>\n",
       "      <td>0.39</td>\n",
       "      <td>0.28</td>\n",
       "      <td>0.163103</td>\n",
       "      <td>0.076708</td>\n",
       "      <td>0.698589</td>\n",
       "      <td>0.440439</td>\n",
       "      <td>0.00</td>\n",
       "      <td>0.195078</td>\n",
       "    </tr>\n",
       "    <tr>\n",
       "      <th>4</th>\n",
       "      <td>0.01</td>\n",
       "      <td>0.55</td>\n",
       "      <td>0.02</td>\n",
       "      <td>0.95</td>\n",
       "      <td>0.09</td>\n",
       "      <td>0.05</td>\n",
       "      <td>0.38</td>\n",
       "      <td>0.38</td>\n",
       "      <td>0.23</td>\n",
       "      <td>0.36</td>\n",
       "      <td>...</td>\n",
       "      <td>0.305987</td>\n",
       "      <td>0.04</td>\n",
       "      <td>0.09</td>\n",
       "      <td>0.02</td>\n",
       "      <td>0.163103</td>\n",
       "      <td>0.076708</td>\n",
       "      <td>0.698589</td>\n",
       "      <td>0.440439</td>\n",
       "      <td>0.00</td>\n",
       "      <td>0.195078</td>\n",
       "    </tr>\n",
       "  </tbody>\n",
       "</table>\n",
       "<p>5 rows × 122 columns</p>\n",
       "</div>"
      ],
      "text/plain": [
       "   population  householdsize  racepctblack  racePctWhite  racePctAsian  \\\n",
       "0        0.19           0.33          0.02          0.90          0.12   \n",
       "1        0.00           0.16          0.12          0.74          0.45   \n",
       "2        0.00           0.42          0.49          0.56          0.17   \n",
       "3        0.04           0.77          1.00          0.08          0.12   \n",
       "4        0.01           0.55          0.02          0.95          0.09   \n",
       "\n",
       "   racePctHisp  agePct12t21  agePct12t29  agePct16t24  agePct65up  \\\n",
       "0         0.17         0.34         0.47         0.29        0.32   \n",
       "1         0.07         0.26         0.59         0.35        0.27   \n",
       "2         0.04         0.39         0.47         0.28        0.32   \n",
       "3         0.10         0.51         0.50         0.34        0.21   \n",
       "4         0.05         0.38         0.38         0.23        0.36   \n",
       "\n",
       "        ...         PolicAveOTWorked  LandArea  PopDens  PctUsePubTrans  \\\n",
       "0       ...                 0.290000      0.12     0.26            0.20   \n",
       "1       ...                 0.305987      0.02     0.12            0.45   \n",
       "2       ...                 0.305987      0.01     0.21            0.02   \n",
       "3       ...                 0.305987      0.02     0.39            0.28   \n",
       "4       ...                 0.305987      0.04     0.09            0.02   \n",
       "\n",
       "   PolicCars  PolicOperBudg  LemasPctPolicOnPatr  LemasGangUnitDeploy  \\\n",
       "0   0.060000       0.040000             0.900000             0.500000   \n",
       "1   0.163103       0.076708             0.698589             0.440439   \n",
       "2   0.163103       0.076708             0.698589             0.440439   \n",
       "3   0.163103       0.076708             0.698589             0.440439   \n",
       "4   0.163103       0.076708             0.698589             0.440439   \n",
       "\n",
       "   LemasPctOfficDrugUn  PolicBudgPerPop  \n",
       "0                 0.32         0.140000  \n",
       "1                 0.00         0.195078  \n",
       "2                 0.00         0.195078  \n",
       "3                 0.00         0.195078  \n",
       "4                 0.00         0.195078  \n",
       "\n",
       "[5 rows x 122 columns]"
      ]
     },
     "execution_count": 8,
     "metadata": {},
     "output_type": "execute_result"
    }
   ],
   "source": [
    "features.head()"
   ]
  },
  {
   "cell_type": "markdown",
   "metadata": {},
   "source": [
    "### 2. Apply three techniques for filter selection:\n",
    "#### 2a. Filter Methods\n",
    "For a filter method, I will select features that share mutual information."
   ]
  },
  {
   "cell_type": "code",
   "execution_count": 9,
   "metadata": {},
   "outputs": [],
   "source": [
    "feature_names = list(features.columns.values)\n",
    "\n",
    "def calc_MI(x, y, bins):\n",
    "    c_xy = np.histogram2d(x, y, bins)[0]\n",
    "    mi = mutual_info_score(None, None, contingency = c_xy)\n",
    "    return mi"
   ]
  },
  {
   "cell_type": "code",
   "execution_count": 10,
   "metadata": {},
   "outputs": [
    {
     "data": {
      "text/html": [
       "<div>\n",
       "<style scoped>\n",
       "    .dataframe tbody tr th:only-of-type {\n",
       "        vertical-align: middle;\n",
       "    }\n",
       "\n",
       "    .dataframe tbody tr th {\n",
       "        vertical-align: top;\n",
       "    }\n",
       "\n",
       "    .dataframe thead th {\n",
       "        text-align: right;\n",
       "    }\n",
       "</style>\n",
       "<table border=\"1\" class=\"dataframe\">\n",
       "  <thead>\n",
       "    <tr style=\"text-align: right;\">\n",
       "      <th></th>\n",
       "      <th>feature name</th>\n",
       "      <th>mutual information score</th>\n",
       "    </tr>\n",
       "  </thead>\n",
       "  <tbody>\n",
       "    <tr>\n",
       "      <th>0</th>\n",
       "      <td>racepctblack</td>\n",
       "      <td>0.334747</td>\n",
       "    </tr>\n",
       "    <tr>\n",
       "      <th>1</th>\n",
       "      <td>racePctWhite</td>\n",
       "      <td>0.412856</td>\n",
       "    </tr>\n",
       "    <tr>\n",
       "      <th>2</th>\n",
       "      <td>pctWInvInc</td>\n",
       "      <td>0.347753</td>\n",
       "    </tr>\n",
       "    <tr>\n",
       "      <th>3</th>\n",
       "      <td>pctWPubAsst</td>\n",
       "      <td>0.338629</td>\n",
       "    </tr>\n",
       "    <tr>\n",
       "      <th>4</th>\n",
       "      <td>PctPopUnderPov</td>\n",
       "      <td>0.353337</td>\n",
       "    </tr>\n",
       "    <tr>\n",
       "      <th>5</th>\n",
       "      <td>FemalePctDiv</td>\n",
       "      <td>0.334654</td>\n",
       "    </tr>\n",
       "    <tr>\n",
       "      <th>6</th>\n",
       "      <td>TotalPctDiv</td>\n",
       "      <td>0.330561</td>\n",
       "    </tr>\n",
       "    <tr>\n",
       "      <th>7</th>\n",
       "      <td>PctFam2Par</td>\n",
       "      <td>0.443457</td>\n",
       "    </tr>\n",
       "    <tr>\n",
       "      <th>8</th>\n",
       "      <td>PctKids2Par</td>\n",
       "      <td>0.509780</td>\n",
       "    </tr>\n",
       "    <tr>\n",
       "      <th>9</th>\n",
       "      <td>PctYoungKids2Par</td>\n",
       "      <td>0.404962</td>\n",
       "    </tr>\n",
       "    <tr>\n",
       "      <th>10</th>\n",
       "      <td>PctTeen2Par</td>\n",
       "      <td>0.377803</td>\n",
       "    </tr>\n",
       "    <tr>\n",
       "      <th>11</th>\n",
       "      <td>PctIlleg</td>\n",
       "      <td>0.474360</td>\n",
       "    </tr>\n",
       "    <tr>\n",
       "      <th>12</th>\n",
       "      <td>PctPersDenseHous</td>\n",
       "      <td>0.346873</td>\n",
       "    </tr>\n",
       "  </tbody>\n",
       "</table>\n",
       "</div>"
      ],
      "text/plain": [
       "        feature name  mutual information score\n",
       "0       racepctblack                  0.334747\n",
       "1       racePctWhite                  0.412856\n",
       "2         pctWInvInc                  0.347753\n",
       "3        pctWPubAsst                  0.338629\n",
       "4     PctPopUnderPov                  0.353337\n",
       "5       FemalePctDiv                  0.334654\n",
       "6        TotalPctDiv                  0.330561\n",
       "7         PctFam2Par                  0.443457\n",
       "8        PctKids2Par                  0.509780\n",
       "9   PctYoungKids2Par                  0.404962\n",
       "10       PctTeen2Par                  0.377803\n",
       "11          PctIlleg                  0.474360\n",
       "12  PctPersDenseHous                  0.346873"
      ]
     },
     "execution_count": 10,
     "metadata": {},
     "output_type": "execute_result"
    }
   ],
   "source": [
    "# calculate mutual information\n",
    "# Select features with highest mutual information scores\n",
    "mi_scores = [calc_MI(features[i],target,20) for i in feature_names]\n",
    "chosen_features = np.array(feature_names)[np.array(mi_scores)>0.3]\n",
    "good_mi_scores = np.array(mi_scores)[np.array(mi_scores)>0.3]\n",
    "chosen_features_df = pd.DataFrame({'feature name':list(chosen_features), \n",
    "                                   'mutual information score': list(good_mi_scores)})\n",
    "chosen_features_df"
   ]
  },
  {
   "cell_type": "code",
   "execution_count": 11,
   "metadata": {},
   "outputs": [],
   "source": [
    "# Select top 7 features from mutual score\n",
    "chosen_features_df = chosen_features_df.sort_values(by=['mutual information score'], ascending=False)\n",
    "chosen_features_df = chosen_features_df.reset_index()\n",
    "filter_features = chosen_features_df.loc[:6,'feature name']"
   ]
  },
  {
   "cell_type": "code",
   "execution_count": 12,
   "metadata": {},
   "outputs": [
    {
     "data": {
      "text/plain": [
       "0         PctKids2Par\n",
       "1            PctIlleg\n",
       "2          PctFam2Par\n",
       "3        racePctWhite\n",
       "4    PctYoungKids2Par\n",
       "5         PctTeen2Par\n",
       "6      PctPopUnderPov\n",
       "Name: feature name, dtype: object"
      ]
     },
     "execution_count": 12,
     "metadata": {},
     "output_type": "execute_result"
    }
   ],
   "source": [
    "filter_features"
   ]
  },
  {
   "cell_type": "markdown",
   "metadata": {},
   "source": [
    "#### 2b. Wrapper Methods\n",
    "I will use a beck selector as a wrapper method to find the predictive features."
   ]
  },
  {
   "cell_type": "code",
   "execution_count": 13,
   "metadata": {},
   "outputs": [],
   "source": [
    "# Create selector\n",
    "estimator = LinearRegression()\n",
    "stepwise_selector = SFS(estimator, \n",
    "    k_features = 10, \n",
    "    forward = True, \n",
    "    floating = False, \n",
    "    cv = 10)\n",
    "\n",
    "# Fit selector\n",
    "stepwise_selector = stepwise_selector.fit(features.values, target)"
   ]
  },
  {
   "cell_type": "code",
   "execution_count": 14,
   "metadata": {},
   "outputs": [
    {
     "data": {
      "image/png": "[encoded data removed]",
      "text/plain": [
       "<Figure size 432x288 with 1 Axes>"
      ]
     },
     "metadata": {
      "needs_background": "light"
     },
     "output_type": "display_data"
    }
   ],
   "source": [
    "fig = plot_sfs(stepwise_selector.get_metric_dict(), kind = 'std_err')\n",
    "\n",
    "plt.title('Sequential selection (w. StdErr)')\n",
    "plt.grid()\n",
    "plt.show()"
   ]
  },
  {
   "cell_type": "code",
   "execution_count": 15,
   "metadata": {},
   "outputs": [
    {
     "data": {
      "text/plain": [
       "{'feature_idx': (3, 11, 38, 44, 48, 50, 71),\n",
       " 'cv_scores': array([0.58412048, 0.611148  , 0.59518519, 0.65492387, 0.67436637,\n",
       "        0.71693634, 0.6864227 , 0.63984191, 0.67052328, 0.59150192]),\n",
       " 'avg_score': 0.6424970071776099,\n",
       " 'feature_names': ('3', '11', '38', '44', '48', '50', '71'),\n",
       " 'ci_bound': 0.03208551889838251,\n",
       " 'std_dev': 0.04320043008552242,\n",
       " 'std_err': 0.014400143361840806}"
      ]
     },
     "execution_count": 15,
     "metadata": {},
     "output_type": "execute_result"
    }
   ],
   "source": [
    "# Select top features from the model with 7 features\n",
    "stepwise_selector.get_metric_dict()[7]"
   ]
  },
  {
   "cell_type": "code",
   "execution_count": 16,
   "metadata": {},
   "outputs": [],
   "source": [
    "stepwise_selector.get_metric_dict()[7]\n",
    "pred_feat = list(stepwise_selector.get_metric_dict()[7]['feature_idx'])"
   ]
  },
  {
   "cell_type": "code",
   "execution_count": 17,
   "metadata": {
    "scrolled": true
   },
   "outputs": [
    {
     "name": "stdout",
     "output_type": "stream",
     "text": [
      "Selected Features:\n",
      "\n",
      "racePctWhite\n",
      "pctUrban\n",
      "MalePctDivorce\n",
      "PctKids2Par\n",
      "PctWorkMom\n",
      "PctIlleg\n",
      "HousVacant\n"
     ]
    }
   ],
   "source": [
    "pred_feat = list(np.array(feature_names)[pred_feat])\n",
    "print(\"Selected Features:\\n\")\n",
    "for i in pred_feat:\n",
    "    print(i)"
   ]
  },
  {
   "cell_type": "code",
   "execution_count": 18,
   "metadata": {},
   "outputs": [
    {
     "data": {
      "text/plain": [
       "array([[1.        , 0.80497629],\n",
       "       [0.80497629, 1.        ]])"
      ]
     },
     "execution_count": 18,
     "metadata": {},
     "output_type": "execute_result"
    }
   ],
   "source": [
    "# Create model with top 7 features from stepwise\n",
    "yhat_stepwise = stepwise_selector.transform(features.values)\n",
    "\n",
    "# Select features\n",
    "best_subset_index = stepwise_selector.get_metric_dict()[7]['feature_idx']\n",
    "best_subset_index = list(best_subset_index)\n",
    "features_subset = features.iloc[:, best_subset_index]\n",
    "\n",
    "# Create, train linear regression model\n",
    "estimator_subset = LinearRegression()\n",
    "estimator_subset.fit(features_subset, target)\n",
    "\n",
    "# Make predictions\n",
    "yhat_estimator = estimator_subset.predict(features_subset)\n",
    "\n",
    "# Check how well the predictions correlate with the actual targets\n",
    "np.corrcoef([yhat_estimator, target])"
   ]
  },
  {
   "cell_type": "code",
   "execution_count": 19,
   "metadata": {},
   "outputs": [
    {
     "data": {
      "text/plain": [
       "<seaborn.axisgrid.PairGrid at 0x1a184011d0>"
      ]
     },
     "execution_count": 19,
     "metadata": {},
     "output_type": "execute_result"
    },
    {
     "data": {
      "image/png": "[encoded data removed]",
      "text/plain": [
       "<Figure size 360x360 with 6 Axes>"
      ]
     },
     "metadata": {
      "needs_background": "light"
     },
     "output_type": "display_data"
    }
   ],
   "source": [
    "# Plot estimates vs. actual\n",
    "import seaborn as sns\n",
    "y_data = pd.DataFrame(data = {'y': target, 'yhat_est': yhat_estimator})\n",
    "sns.pairplot(y_data)"
   ]
  },
  {
   "cell_type": "markdown",
   "metadata": {},
   "source": [
    "#### 2c. Embedded Methods"
   ]
  },
  {
   "cell_type": "code",
   "execution_count": 20,
   "metadata": {},
   "outputs": [
    {
     "name": "stdout",
     "output_type": "stream",
     "text": [
      "0.4907794725612708\n",
      "0.6148406166450415\n"
     ]
    }
   ],
   "source": [
    "# LASSO\n",
    "from sklearn import linear_model\n",
    "linear_model.Lasso()\n",
    "\n",
    "# Train lasso model\n",
    "alpha = 0.005 # Increasing alpha can shrink more variable coefficients to 0\n",
    "clf = linear_model.Lasso(alpha = alpha)\n",
    "clf.fit(features, target)\n",
    "\n",
    "print(clf.intercept_)\n",
    "print(clf.score(features, target))\n",
    "\n",
    "pred_clf = clf.predict(features)"
   ]
  },
  {
   "cell_type": "code",
   "execution_count": 21,
   "metadata": {},
   "outputs": [
    {
     "data": {
      "image/png": "[encoded data removed]",
      "text/plain": [
       "<Figure size 432x288 with 1 Axes>"
      ]
     },
     "metadata": {
      "needs_background": "light"
     },
     "output_type": "display_data"
    }
   ],
   "source": [
    "# Plot magnitude of impact of features\n",
    "lasso = pd.DataFrame({'col': features.columns, 'coef': clf.coef_})\n",
    "ax = sns.barplot(x = 'col', y = 'coef', data = lasso)"
   ]
  },
  {
   "cell_type": "code",
   "execution_count": 22,
   "metadata": {},
   "outputs": [
    {
     "data": {
      "text/html": [
       "<div>\n",
       "<style scoped>\n",
       "    .dataframe tbody tr th:only-of-type {\n",
       "        vertical-align: middle;\n",
       "    }\n",
       "\n",
       "    .dataframe tbody tr th {\n",
       "        vertical-align: top;\n",
       "    }\n",
       "\n",
       "    .dataframe thead th {\n",
       "        text-align: right;\n",
       "    }\n",
       "</style>\n",
       "<table border=\"1\" class=\"dataframe\">\n",
       "  <thead>\n",
       "    <tr style=\"text-align: right;\">\n",
       "      <th></th>\n",
       "      <th>col</th>\n",
       "      <th>coef</th>\n",
       "    </tr>\n",
       "  </thead>\n",
       "  <tbody>\n",
       "    <tr>\n",
       "      <th>3</th>\n",
       "      <td>racePctWhite</td>\n",
       "      <td>-0.200949</td>\n",
       "    </tr>\n",
       "    <tr>\n",
       "      <th>11</th>\n",
       "      <td>pctUrban</td>\n",
       "      <td>0.021291</td>\n",
       "    </tr>\n",
       "    <tr>\n",
       "      <th>38</th>\n",
       "      <td>MalePctDivorce</td>\n",
       "      <td>0.040113</td>\n",
       "    </tr>\n",
       "    <tr>\n",
       "      <th>44</th>\n",
       "      <td>PctKids2Par</td>\n",
       "      <td>-0.310513</td>\n",
       "    </tr>\n",
       "    <tr>\n",
       "      <th>50</th>\n",
       "      <td>PctIlleg</td>\n",
       "      <td>0.202717</td>\n",
       "    </tr>\n",
       "    <tr>\n",
       "      <th>68</th>\n",
       "      <td>PctPersDenseHous</td>\n",
       "      <td>0.012657</td>\n",
       "    </tr>\n",
       "    <tr>\n",
       "      <th>71</th>\n",
       "      <td>HousVacant</td>\n",
       "      <td>0.042454</td>\n",
       "    </tr>\n",
       "    <tr>\n",
       "      <th>120</th>\n",
       "      <td>LemasPctOfficDrugUn</td>\n",
       "      <td>0.010896</td>\n",
       "    </tr>\n",
       "  </tbody>\n",
       "</table>\n",
       "</div>"
      ],
      "text/plain": [
       "                     col      coef\n",
       "3           racePctWhite -0.200949\n",
       "11              pctUrban  0.021291\n",
       "38        MalePctDivorce  0.040113\n",
       "44           PctKids2Par -0.310513\n",
       "50              PctIlleg  0.202717\n",
       "68      PctPersDenseHous  0.012657\n",
       "71            HousVacant  0.042454\n",
       "120  LemasPctOfficDrugUn  0.010896"
      ]
     },
     "execution_count": 22,
     "metadata": {},
     "output_type": "execute_result"
    }
   ],
   "source": [
    "# Show features with top coefficients\n",
    "lasso.loc[abs(lasso['coef']) > 0.01,:]"
   ]
  },
  {
   "cell_type": "code",
   "execution_count": 23,
   "metadata": {},
   "outputs": [
    {
     "name": "stderr",
     "output_type": "stream",
     "text": [
      "/Users/dusty/anaconda3/envs/uwdatasci420/lib/python3.6/site-packages/ipykernel_launcher.py:3: SettingWithCopyWarning: \n",
      "A value is trying to be set on a copy of a slice from a DataFrame.\n",
      "Try using .loc[row_indexer,col_indexer] = value instead\n",
      "\n",
      "See the caveats in the documentation: http://pandas.pydata.org/pandas-docs/stable/indexing.html#indexing-view-versus-copy\n",
      "  This is separate from the ipykernel package so we can avoid doing imports until\n"
     ]
    }
   ],
   "source": [
    "# Rank features by coefficient\n",
    "embedded = lasso.loc[abs(lasso['coef']) > 0.01,:]\n",
    "embedded['coef'] = abs(embedded['coef'])\n",
    "embedded = embedded.sort_values(by=['coef'], ascending=False)"
   ]
  },
  {
   "cell_type": "code",
   "execution_count": 24,
   "metadata": {},
   "outputs": [],
   "source": [
    "# Select top 7 features\n",
    "embedded_features = embedded[:7]"
   ]
  },
  {
   "cell_type": "code",
   "execution_count": 25,
   "metadata": {},
   "outputs": [
    {
     "data": {
      "text/html": [
       "<div>\n",
       "<style scoped>\n",
       "    .dataframe tbody tr th:only-of-type {\n",
       "        vertical-align: middle;\n",
       "    }\n",
       "\n",
       "    .dataframe tbody tr th {\n",
       "        vertical-align: top;\n",
       "    }\n",
       "\n",
       "    .dataframe thead th {\n",
       "        text-align: right;\n",
       "    }\n",
       "</style>\n",
       "<table border=\"1\" class=\"dataframe\">\n",
       "  <thead>\n",
       "    <tr style=\"text-align: right;\">\n",
       "      <th></th>\n",
       "      <th>col</th>\n",
       "      <th>coef</th>\n",
       "    </tr>\n",
       "  </thead>\n",
       "  <tbody>\n",
       "    <tr>\n",
       "      <th>44</th>\n",
       "      <td>PctKids2Par</td>\n",
       "      <td>0.310513</td>\n",
       "    </tr>\n",
       "    <tr>\n",
       "      <th>50</th>\n",
       "      <td>PctIlleg</td>\n",
       "      <td>0.202717</td>\n",
       "    </tr>\n",
       "    <tr>\n",
       "      <th>3</th>\n",
       "      <td>racePctWhite</td>\n",
       "      <td>0.200949</td>\n",
       "    </tr>\n",
       "    <tr>\n",
       "      <th>71</th>\n",
       "      <td>HousVacant</td>\n",
       "      <td>0.042454</td>\n",
       "    </tr>\n",
       "    <tr>\n",
       "      <th>38</th>\n",
       "      <td>MalePctDivorce</td>\n",
       "      <td>0.040113</td>\n",
       "    </tr>\n",
       "    <tr>\n",
       "      <th>11</th>\n",
       "      <td>pctUrban</td>\n",
       "      <td>0.021291</td>\n",
       "    </tr>\n",
       "    <tr>\n",
       "      <th>68</th>\n",
       "      <td>PctPersDenseHous</td>\n",
       "      <td>0.012657</td>\n",
       "    </tr>\n",
       "  </tbody>\n",
       "</table>\n",
       "</div>"
      ],
      "text/plain": [
       "                 col      coef\n",
       "44       PctKids2Par  0.310513\n",
       "50          PctIlleg  0.202717\n",
       "3       racePctWhite  0.200949\n",
       "71        HousVacant  0.042454\n",
       "38    MalePctDivorce  0.040113\n",
       "11          pctUrban  0.021291\n",
       "68  PctPersDenseHous  0.012657"
      ]
     },
     "execution_count": 25,
     "metadata": {},
     "output_type": "execute_result"
    }
   ],
   "source": [
    "embedded_features"
   ]
  },
  {
   "cell_type": "code",
   "execution_count": 26,
   "metadata": {},
   "outputs": [],
   "source": [
    "# Train linear regression with top 7 lasso features\n",
    "lm = linear_model.LinearRegression()\n",
    "lm.fit(crime[embedded_features['col']], target)\n",
    "\n",
    "# Make predictions with model\n",
    "pred_lm = lm.predict(crime[embedded_features['col']])"
   ]
  },
  {
   "cell_type": "code",
   "execution_count": 27,
   "metadata": {},
   "outputs": [
    {
     "data": {
      "text/plain": [
       "array([[1.        , 0.98473865],\n",
       "       [0.98473865, 1.        ]])"
      ]
     },
     "execution_count": 27,
     "metadata": {},
     "output_type": "execute_result"
    }
   ],
   "source": [
    "np.corrcoef(pred_lm, pred_clf)"
   ]
  },
  {
   "cell_type": "markdown",
   "metadata": {},
   "source": [
    "### Summary:"
   ]
  },
  {
   "cell_type": "code",
   "execution_count": 28,
   "metadata": {},
   "outputs": [
    {
     "data": {
      "text/plain": [
       "['PctKids2Par',\n",
       " 'PctIlleg',\n",
       " 'racePctWhite',\n",
       " 'HousVacant',\n",
       " 'MalePctDivorce',\n",
       " 'pctUrban',\n",
       " 'PctPersDenseHous']"
      ]
     },
     "execution_count": 28,
     "metadata": {},
     "output_type": "execute_result"
    }
   ],
   "source": [
    "list(embedded_features['col'])"
   ]
  },
  {
   "cell_type": "code",
   "execution_count": 29,
   "metadata": {},
   "outputs": [],
   "source": [
    "comparison = pd.DataFrame({'Filter Features':sorted(list(filter_features)),\n",
    "                          'Wrapper Features':sorted(pred_feat),\n",
    "                          'Embedded Features':sorted(list(embedded_features['col']))})"
   ]
  },
  {
   "cell_type": "code",
   "execution_count": 30,
   "metadata": {},
   "outputs": [
    {
     "data": {
      "text/html": [
       "<div>\n",
       "<style scoped>\n",
       "    .dataframe tbody tr th:only-of-type {\n",
       "        vertical-align: middle;\n",
       "    }\n",
       "\n",
       "    .dataframe tbody tr th {\n",
       "        vertical-align: top;\n",
       "    }\n",
       "\n",
       "    .dataframe thead th {\n",
       "        text-align: right;\n",
       "    }\n",
       "</style>\n",
       "<table border=\"1\" class=\"dataframe\">\n",
       "  <thead>\n",
       "    <tr style=\"text-align: right;\">\n",
       "      <th></th>\n",
       "      <th>Filter Features</th>\n",
       "      <th>Wrapper Features</th>\n",
       "      <th>Embedded Features</th>\n",
       "    </tr>\n",
       "  </thead>\n",
       "  <tbody>\n",
       "    <tr>\n",
       "      <th>0</th>\n",
       "      <td>PctFam2Par</td>\n",
       "      <td>HousVacant</td>\n",
       "      <td>HousVacant</td>\n",
       "    </tr>\n",
       "    <tr>\n",
       "      <th>1</th>\n",
       "      <td>PctIlleg</td>\n",
       "      <td>MalePctDivorce</td>\n",
       "      <td>MalePctDivorce</td>\n",
       "    </tr>\n",
       "    <tr>\n",
       "      <th>2</th>\n",
       "      <td>PctKids2Par</td>\n",
       "      <td>PctIlleg</td>\n",
       "      <td>PctIlleg</td>\n",
       "    </tr>\n",
       "    <tr>\n",
       "      <th>3</th>\n",
       "      <td>PctPopUnderPov</td>\n",
       "      <td>PctKids2Par</td>\n",
       "      <td>PctKids2Par</td>\n",
       "    </tr>\n",
       "    <tr>\n",
       "      <th>4</th>\n",
       "      <td>PctTeen2Par</td>\n",
       "      <td>PctWorkMom</td>\n",
       "      <td>PctPersDenseHous</td>\n",
       "    </tr>\n",
       "    <tr>\n",
       "      <th>5</th>\n",
       "      <td>PctYoungKids2Par</td>\n",
       "      <td>pctUrban</td>\n",
       "      <td>pctUrban</td>\n",
       "    </tr>\n",
       "    <tr>\n",
       "      <th>6</th>\n",
       "      <td>racePctWhite</td>\n",
       "      <td>racePctWhite</td>\n",
       "      <td>racePctWhite</td>\n",
       "    </tr>\n",
       "  </tbody>\n",
       "</table>\n",
       "</div>"
      ],
      "text/plain": [
       "    Filter Features Wrapper Features Embedded Features\n",
       "0        PctFam2Par       HousVacant        HousVacant\n",
       "1          PctIlleg   MalePctDivorce    MalePctDivorce\n",
       "2       PctKids2Par         PctIlleg          PctIlleg\n",
       "3    PctPopUnderPov      PctKids2Par       PctKids2Par\n",
       "4       PctTeen2Par       PctWorkMom  PctPersDenseHous\n",
       "5  PctYoungKids2Par         pctUrban          pctUrban\n",
       "6      racePctWhite     racePctWhite      racePctWhite"
      ]
     },
     "execution_count": 30,
     "metadata": {},
     "output_type": "execute_result"
    }
   ],
   "source": [
    "comparison"
   ]
  },
  {
   "cell_type": "markdown",
   "metadata": {},
   "source": [
    "### Summary:\n",
    "\n",
    "The ultimate goal of this investigation is to report to the client which factors are the most helpful in predicting the crime of an area.  I tried three different techniques for feature selection:\n",
    "\n",
    "1. Filter Method: Mutual Information\n",
    "2. Wrapper Method: Stepwise Selection\n",
    "3. Embedded Method: Lasso Regression\n",
    "\n",
    "For the first method, I will calculate the mutual information between the features and the target.  Mutual information is better than general correlation, because mutual information can contain information about linear AND non-linear associations.  For the wrapper method, I chose stepwise because it seemed like a good middle ground between forward and backward selection.  Finally the embedded method I will use is the lasso regresion method.  For all three, I get quantities that can be used to rank the impact of the features on the target.  The mutual information is a score, the stepwise process selects the top 7 features (I set 7), and lasso regression creates coefficients for each feature where the larger the magnitude, the larger the impact.  Taking all of these into account, I came up with a list of the top 7 features for each method.  All three methods share similar top features.  The factors that were important in all three methods were PctFam2Par, PctIlleg, PctKids2Par, racePctWhite, and a few others.  Notablly there is some difference between the filter methods and the other two, but simply measuring the information two variables share does not necessarily tell us predictive ability.  The wrapper and embedded methods both involve optimizing the features to fit a linear regression model, so I think these two methods are better for feature selection.  These two methods produced very similar results.  The only difference in the top 7 features were the PctWorkMom and PctPersDenseHous features.  The fact that both results are so similar gives me confidence in reporting the features selected by stepwise/lasso to the client."
   ]
  }
 ],
 "metadata": {
  "kernelspec": {
   "display_name": "Python 3",
   "language": "python",
   "name": "python3"
  },
  "language_info": {
   "codemirror_mode": {
    "name": "ipython",
    "version": 3
   },
   "file_extension": ".py",
   "mimetype": "text/x-python",
   "name": "python",
   "nbconvert_exporter": "python",
   "pygments_lexer": "ipython3",
   "version": "3.6.8"
  }
 },
 "nbformat": 4,
 "nbformat_minor": 2
}
